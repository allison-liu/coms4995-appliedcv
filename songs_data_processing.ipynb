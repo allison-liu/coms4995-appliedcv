{
 "cells": [
  {
   "cell_type": "code",
   "execution_count": null,
   "id": "ae5721a5-f73e-49c6-a4fd-d1c2044abb76",
   "metadata": {},
   "outputs": [],
   "source": [
    "# this file will just be data processing loool \n",
    "# maybe put info into csv file (song title,song artist,mood1,mood2,...)\n",
    "\n",
    "# for every file in millionsongsubset, we need to get the songs\n",
    "# for every song, we need to webscrape allmusic to find the moods\n",
    "\n",
    "# can download a subset by using wget and a url from the million song database website"
   ]
  },
  {
   "cell_type": "code",
   "execution_count": 1,
   "id": "50b22e13",
   "metadata": {
    "tags": []
   },
   "outputs": [],
   "source": [
    "# imports?\n",
    "import tarfile\n",
    "import os\n",
    "import hdf5_getters\n",
    "import numpy as np\n",
    "import csv"
   ]
  },
  {
   "cell_type": "code",
   "execution_count": 2,
   "id": "9b2e5ac9-c59e-49c2-83bc-9e1f86330624",
   "metadata": {
    "tags": []
   },
   "outputs": [],
   "source": [
    "# extract msd data\n",
    "def extract_tar_gz(file_path, extract_path):\n",
    "    # Open the tar.gz file\n",
    "    with tarfile.open(file_path, 'r:gz') as tar:\n",
    "        # Extract all files\n",
    "        tar.extractall(path=extract_path)\n",
    "\n",
    "# Example usage:\n",
    "tar_gz_file = 'millionsongsubset.tar.gz'\n",
    "extract_directory = 'millionsongsubset'\n",
    "\n",
    "# Make sure the extract directory exists\n",
    "os.makedirs(extract_directory, exist_ok=True)\n",
    "\n",
    "# Extract the tar.gz file\n",
    "extract_tar_gz(tar_gz_file, extract_directory)\n",
    "\n",
    "# after extracting the file, flatten the directories with this terminal call:\n",
    "# $ find coms4995-appliedcv/millionsongsubset/MillionSongSubset -type f -exec mv -i '{}' ./coms4995-appliedcv/millionsongsubset \\;\n",
    "\n",
    "# now remove the folder with the redundant files\n",
    "# $ cd coms4995-appliedcv/millionsongsubset/\n",
    "# $ rm -r MillionSongSubset/"
   ]
  },
  {
   "cell_type": "code",
   "execution_count": null,
   "id": "c203d3e0-a504-4e64-a065-167c8e58213b",
   "metadata": {},
   "outputs": [],
   "source": [
    "# write to a csv file (song title,song artist,mood1,mood2,...)\n",
    "def read_moods(file_path):\n",
    "    with open(file_path, 'r') as file:\n",
    "        moods = []\n",
    "        moods_dict = {}\n",
    "        count = 0\n",
    "        for line in file:\n",
    "            m = line.strip().lower()\n",
    "            moods.append(m)\n",
    "            moods_dict[m] = count\n",
    "            count += 1\n",
    "        return moods, moods_dict\n",
    "        #return [line.strip() for line in file]\n",
    "\n",
    "# moods.txt from https://github.com/fdlm/listening-moods/blob/master/data/moods.txt\n",
    "moods_file = 'moods.txt'\n",
    "\n",
    "# Read moods from file\n",
    "moods, moods_dict = read_moods(moods_file)\n",
    "\n",
    "# Headers contain song title, song artist, and moods\n",
    "headers = ['song_title', 'song_artist'] + moods"
   ]
  },
  {
   "cell_type": "code",
   "execution_count": null,
   "id": "0495e555-cbd8-4260-839a-afd5977c4382",
   "metadata": {},
   "outputs": [],
   "source": [
    "# Directory containing the .h5 files\n",
    "directory = '/millionsongsubset'\n",
    "data = []\n",
    "num_moods = len(moods)\n",
    "\n",
    "# List all files in the directory\n",
    "for filename in os.listdir(directory):\n",
    "    # Check if the file is an .h5 file\n",
    "    if filename.endswith('.h5'):\n",
    "        # Process the .h5 file\n",
    "        file_path = os.path.join(directory, filename)\n",
    "        # print(f\"Processing file: {file_path}\")\n",
    "        # process the .h5 file\n",
    "        h5 = hdf5_getters.open_h5_file_read(file_path)\n",
    "        num_songs = hdf5_getters.get_num_songs(h5)\n",
    "        \n",
    "        for i in range(num_songs):\n",
    "            song_data = []\n",
    "            song_title = hdf5_getters.get_title(h5,i)\n",
    "            song_artist = hdf5_getters.get_artist_name(h5,i)\n",
    "            \n",
    "            song_data.append(song_title)\n",
    "            song_data.append(song_artist)\n",
    "            \n",
    "            song_data += [0]*num_moods\n",
    "            \n",
    "            # song_search_matching\n",
    "            # https://github.com/jack-arms/allmusic-python/blob/master/allmusic.py\n",
    "            data.append(song_data)\n",
    "            \n",
    "        h5.close()\n",
    "        "
   ]
  },
  {
   "cell_type": "code",
   "execution_count": null,
   "id": "4718177e-b321-49bc-9ac2-caed72a5001d",
   "metadata": {},
   "outputs": [],
   "source": [
    "def write_csv(file_path, data, headers):\n",
    "    with open(file_path, 'w', newline='') as csvfile:\n",
    "        writer = csv.writer(csvfile)\n",
    "        writer.writerow(headers)\n",
    "        for row in data:\n",
    "            writer.writerow(row)"
   ]
  },
  {
   "cell_type": "code",
   "execution_count": null,
   "id": "12a71768-b196-425d-acaa-38309fc689e0",
   "metadata": {},
   "outputs": [],
   "source": [
    "song_csv = 'song_moods.csv'\n",
    "\n",
    "# Write to CSV\n",
    "write_csv(song_csv, data, headers)"
   ]
  },
  {
   "cell_type": "code",
   "execution_count": null,
   "id": "da739b37",
   "metadata": {},
   "outputs": [],
   "source": [
    "# go through all the files in /millionsongsubset\n",
    "# for each file, find the songs in allmusic.com (id=\"moodsGrid\")"
   ]
  },
  {
   "cell_type": "code",
   "execution_count": null,
   "id": "597bd9ac",
   "metadata": {},
   "outputs": [],
   "source": [
    "# for each song in msd, webscrape allmusic for moods"
   ]
  },
  {
   "cell_type": "code",
   "execution_count": null,
   "id": "87e4ffe9",
   "metadata": {},
   "outputs": [],
   "source": [
    "# find spotify id for song"
   ]
  },
  {
   "cell_type": "code",
   "execution_count": null,
   "id": "ba340dbf",
   "metadata": {},
   "outputs": [],
   "source": [
    "# store in dictionary {mood: [spotify id]}"
   ]
  }
 ],
 "metadata": {
  "environment": {
   "kernel": "conda-root-py",
   "name": "workbench-notebooks.m115",
   "type": "gcloud",
   "uri": "gcr.io/deeplearning-platform-release/workbench-notebooks:m115"
  },
  "kernelspec": {
   "display_name": "Python 3 (ipykernel) (Local)",
   "language": "python",
   "name": "conda-root-py"
  },
  "language_info": {
   "codemirror_mode": {
    "name": "ipython",
    "version": 3
   },
   "file_extension": ".py",
   "mimetype": "text/x-python",
   "name": "python",
   "nbconvert_exporter": "python",
   "pygments_lexer": "ipython3",
   "version": "3.10.13"
  }
 },
 "nbformat": 4,
 "nbformat_minor": 5
}
