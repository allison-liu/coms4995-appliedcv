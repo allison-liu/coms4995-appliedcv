{
 "cells": [
  {
   "cell_type": "code",
   "execution_count": null,
   "metadata": {
    "colab": {
     "base_uri": "https://localhost:8080/"
    },
    "id": "4e8vQOAww_hN",
    "outputId": "c315719e-ecdb-4e4a-ca16-837c1ea680ce"
   },
   "outputs": [
    {
     "name": "stdout",
     "output_type": "stream",
     "text": [
      "Requirement already satisfied: opendatasets in /usr/local/lib/python3.10/dist-packages (0.1.22)\n",
      "Requirement already satisfied: tqdm in /usr/local/lib/python3.10/dist-packages (from opendatasets) (4.66.1)\n",
      "Requirement already satisfied: kaggle in /usr/local/lib/python3.10/dist-packages (from opendatasets) (1.5.16)\n",
      "Requirement already satisfied: click in /usr/local/lib/python3.10/dist-packages (from opendatasets) (8.1.7)\n",
      "Requirement already satisfied: six>=1.10 in /usr/local/lib/python3.10/dist-packages (from kaggle->opendatasets) (1.16.0)\n",
      "Requirement already satisfied: certifi in /usr/local/lib/python3.10/dist-packages (from kaggle->opendatasets) (2024.2.2)\n",
      "Requirement already satisfied: python-dateutil in /usr/local/lib/python3.10/dist-packages (from kaggle->opendatasets) (2.8.2)\n",
      "Requirement already satisfied: requests in /usr/local/lib/python3.10/dist-packages (from kaggle->opendatasets) (2.31.0)\n",
      "Requirement already satisfied: python-slugify in /usr/local/lib/python3.10/dist-packages (from kaggle->opendatasets) (8.0.3)\n",
      "Requirement already satisfied: urllib3 in /usr/local/lib/python3.10/dist-packages (from kaggle->opendatasets) (2.0.7)\n",
      "Requirement already satisfied: bleach in /usr/local/lib/python3.10/dist-packages (from kaggle->opendatasets) (6.1.0)\n",
      "Requirement already satisfied: webencodings in /usr/local/lib/python3.10/dist-packages (from bleach->kaggle->opendatasets) (0.5.1)\n",
      "Requirement already satisfied: text-unidecode>=1.3 in /usr/local/lib/python3.10/dist-packages (from python-slugify->kaggle->opendatasets) (1.3)\n",
      "Requirement already satisfied: charset-normalizer<4,>=2 in /usr/local/lib/python3.10/dist-packages (from requests->kaggle->opendatasets) (3.3.2)\n",
      "Requirement already satisfied: idna<4,>=2.5 in /usr/local/lib/python3.10/dist-packages (from requests->kaggle->opendatasets) (3.6)\n"
     ]
    }
   ],
   "source": [
    "!pip install opendatasets"
   ]
  },
  {
   "cell_type": "code",
   "execution_count": null,
   "metadata": {
    "colab": {
     "base_uri": "https://localhost:8080/"
    },
    "id": "rmbKjfWUuIkO",
    "outputId": "624dec8d-b88a-43d5-f6fb-d251066134e8"
   },
   "outputs": [
    {
     "name": "stdout",
     "output_type": "stream",
     "text": [
      "Please provide your Kaggle credentials to download this dataset. Learn more: http://bit.ly/kaggle-creds\n",
      "Your Kaggle username: avitakku\n",
      "Your Kaggle Key: ··········\n",
      "Downloading wikiart25k.zip to ./wikiart25k\n"
     ]
    },
    {
     "name": "stderr",
     "output_type": "stream",
     "text": [
      "100%|██████████| 7.74G/7.74G [00:31<00:00, 267MB/s]\n"
     ]
    },
    {
     "name": "stdout",
     "output_type": "stream",
     "text": [
      "\n"
     ]
    }
   ],
   "source": [
    "import opendatasets as od\n",
    "dataset_url = 'https://www.kaggle.com/datasets/trungit/wikiart25k'\n",
    "od.download(dataset_url, force=True)"
   ]
  },
  {
   "cell_type": "code",
   "execution_count": null,
   "metadata": {
    "colab": {
     "base_uri": "https://localhost:8080/"
    },
    "id": "fECgKHke_O_9",
    "outputId": "fe2e21b8-3ce7-49c0-df77-cccb9e84a2b3"
   },
   "outputs": [
    {
     "name": "stdout",
     "output_type": "stream",
     "text": [
      "Collecting optim\n",
      "  Downloading optim-0.1.0.tar.gz (4.1 kB)\n",
      "  Preparing metadata (setup.py) ... \u001b[?25l\u001b[?25hdone\n",
      "Building wheels for collected packages: optim\n",
      "  Building wheel for optim (setup.py) ... \u001b[?25l\u001b[?25hdone\n",
      "  Created wheel for optim: filename=optim-0.1.0-py2.py3-none-any.whl size=2705 sha256=dcf512a3684d4e9b49500a039ced60ccdd5bd32c4b9cfc6eca35a8eb6712902c\n",
      "  Stored in directory: /root/.cache/pip/wheels/63/cd/16/e7762fdd7862a4f618fa7ca62119fac2112de90041cee77227\n",
      "Successfully built optim\n",
      "Installing collected packages: optim\n",
      "Successfully installed optim-0.1.0\n"
     ]
    }
   ],
   "source": [
    "!pip install optim"
   ]
  },
  {
   "cell_type": "code",
   "execution_count": 1,
   "metadata": {
    "id": "66Mc3VMIIyBL"
   },
   "outputs": [],
   "source": [
    "import pandas as pd\n",
    "import os\n",
    "import torch\n",
    "from torch import nn\n",
    "from torch.utils.data import Dataset, DataLoader\n",
    "from torch.nn.utils.rnn import pad_sequence\n",
    "from torchvision import datasets\n",
    "from torchvision import transforms\n",
    "from torchvision.transforms import ToTensor\n",
    "from torchvision.io import read_image\n",
    "from torchvision.models import resnet50\n",
    "from torchtext.data.metrics import bleu_score\n",
    "from torch.optim.lr_scheduler import StepLR, ReduceLROnPlateau\n",
    "from transformers import AutoTokenizer, BertModel, BertConfig, BertTokenizer\n",
    "import numpy as np\n",
    "import matplotlib.pyplot as plt\n",
    "from PIL import Image\n",
    "from sklearn.model_selection import train_test_split\n"
   ]
  },
  {
   "cell_type": "markdown",
   "metadata": {
    "id": "DeuOy2nMHNcq"
   },
   "source": [
    "## Cleaning the dataset"
   ]
  },
  {
   "cell_type": "markdown",
   "metadata": {
    "id": "e9qUkXI4HRKe"
   },
   "source": [
    "When we downloaded the dataset off of Kaggle, a lot of the filenames downloaded with non ascii characters. I was unable to clean these effectively, so I decided to delete the files entirely as the dataset was big enough."
   ]
  },
  {
   "cell_type": "code",
   "execution_count": null,
   "metadata": {
    "colab": {
     "base_uri": "https://localhost:8080/"
    },
    "id": "UdmERfIzBLHB",
    "outputId": "23b30a3e-b0c2-45f2-f493-a196b48164c3"
   },
   "outputs": [
    {
     "name": "stdout",
     "output_type": "stream",
     "text": [
      "Total deleted files: 0\n"
     ]
    }
   ],
   "source": [
    "import os\n",
    "\n",
    "# Function to delete incorrectly encoded files\n",
    "\n",
    "def delete_non_ascii_filenames(directory):\n",
    "    count = 0\n",
    "    for subdir, _, files in os.walk(directory):\n",
    "        for file in files:\n",
    "            try:\n",
    "                file.encode('ascii')\n",
    "            except UnicodeEncodeError:  # Filename is non-ASCII\n",
    "                full_path = os.path.join(subdir, file)\n",
    "                os.remove(full_path)  # Delete the file\n",
    "                count += 1\n",
    "                print(f\"Deleted file: {full_path}\")\n",
    "    return count\n",
    "\n",
    "# Use the function on your dataset directory and delete non-ASCII files\n",
    "deleted_count = delete_non_ascii_filenames('wikiart25k')\n",
    "print(f\"Total deleted files: {deleted_count}\")\n"
   ]
  },
  {
   "cell_type": "markdown",
   "metadata": {
    "id": "bV7CKqxWI01R"
   },
   "source": [
    "Here I am creating a new dataframe that doesn't include the images that I deleted."
   ]
  },
  {
   "cell_type": "code",
   "execution_count": null,
   "metadata": {
    "id": "TDmHE-M40iXP"
   },
   "outputs": [],
   "source": [
    "# Load dataset\n",
    "df = pd.read_csv('drive/MyDrive/Applied_CV/valid_images.csv')"
   ]
  },
  {
   "cell_type": "code",
   "execution_count": null,
   "metadata": {
    "id": "2i3Bw3HECIvf"
   },
   "outputs": [],
   "source": [
    "# Initializing new dataframe\n",
    "trimmed_valid_images_df = pd.DataFrame(columns=df.columns)"
   ]
  },
  {
   "cell_type": "code",
   "execution_count": 2,
   "metadata": {
    "id": "tbuCAKQjCamV"
   },
   "outputs": [],
   "source": [
    "def get_image_path(art_style, painting, top_dir='wikiart25k'):\n",
    "    path = f\"{top_dir}/{art_style}/{painting}.jpg\"\n",
    "    return path"
   ]
  },
  {
   "cell_type": "code",
   "execution_count": null,
   "metadata": {
    "colab": {
     "base_uri": "https://localhost:8080/"
    },
    "id": "8B9MBZpUCOTR",
    "outputId": "a5d81f4b-28ad-4c7e-82d5-4e75a7515708"
   },
   "outputs": [
    {
     "name": "stdout",
     "output_type": "stream",
     "text": [
      "\u001b[1;30;43mStreaming output truncated to the last 5000 lines.\u001b[0m\n",
      "Symbolism\n",
      "odilon-redon_the-mask-of-the-red-death-1883\n",
      "Symbolism\n",
      "odilon-redon_the-mask-of-the-red-death-1883\n",
      "Symbolism\n",
      "odilon-redon_the-mask-of-the-red-death-1883\n",
      "Symbolism\n",
      "odilon-redon_the-mask-of-the-red-death-1883\n",
      "Symbolism\n",
      "odilon-redon_the-mask-of-the-red-death-1883\n",
      "Symbolism\n",
      "odilon-redon_the-mask-of-the-red-death-1883\n",
      "Symbolism\n",
      "odilon-redon_the-mask-of-the-red-death-1883\n",
      "Symbolism\n",
      "odilon-redon_the-mask-of-the-red-death-1883\n",
      "Symbolism\n",
      "odilon-redon_the-mask-of-the-red-death-1883\n",
      "Symbolism\n",
      "odilon-redon_the-mask-of-the-red-death-1883\n",
      "Symbolism\n",
      "odilon-redon_the-mask-of-the-red-death-1883\n",
      "Symbolism\n",
      "odilon-redon_the-mask-of-the-red-death-1883\n",
      "Symbolism\n",
      "odilon-redon_the-mask-of-the-red-death-1883\n",
      "Symbolism\n",
      "odilon-redon_the-mask-of-the-red-death-1883\n",
      "Symbolism\n",
      "... (output truncated)"
     ]
    }
   ],
   "source": [
    "# Go through each row in the dataset\n",
    "valid_rows = []\n",
    "\n",
    "for index, row in df.iterrows():\n",
    "    art_style = row['art_style']\n",
    "    print(art_style)\n",
    "    painting = row['painting']\n",
    "    print(painting)\n",
    "    image_path = get_image_path(art_style, painting)\n",
    "\n",
    "    # Check if the image exists in archive\n",
    "    # If image found, save the row to list\n",
    "    try:\n",
    "        with Image.open(image_path):\n",
    "            valid_rows.append(row)\n",
    "    except FileNotFoundError:\n",
    "        continue\n",
    "\n",
    "# Create a new dataframe with the valid rows\n",
    "trimmed_valid_images_df = pd.DataFrame(valid_rows, columns=df.columns)\n",
    "\n",
    "# Save the new dataframe to a csv file\n",
    "trimmed_valid_images_df.to_csv('drive/MyDrive/Applied_CV/trimmed_valid_images.csv', index=False)"
   ]
  },
  {
   "cell_type": "code",
   "execution_count": 3,
   "metadata": {
    "id": "d_ZGSmWsEEHQ"
   },
   "outputs": [],
   "source": [
    "model_df = pd.read_csv('drive/MyDrive/Applied_CV/trimmed_valid_images.csv')"
   ]
  },
  {
   "cell_type": "code",
   "execution_count": 4,
   "metadata": {
    "id": "JnY9rDFS011L"
   },
   "outputs": [],
   "source": [
    "def get_image_path(art_style, painting, top_dir='wikiart25k'):\n",
    "    path = f\"{top_dir}/{art_style}/{painting}.jpg\"\n",
    "    return path"
   ]
  },
  {
   "cell_type": "code",
   "execution_count": 5,
   "metadata": {
    "colab": {
     "base_uri": "https://localhost:8080/"
    },
    "id": "H-w5YIEi2Ky0",
    "outputId": "ede39502-3d34-451a-bcb7-0e1a627f17a0"
   },
   "outputs": [
    {
     "name": "stdout",
     "output_type": "stream",
     "text": [
      "art_style                                         Impressionism\n",
      "painting                          willard-metcalf_havana-harbor\n",
      "emotion                                             contentment\n",
      "utterance     The red of the flowers pop off the page, it is...\n",
      "repetition                                                    7\n",
      "Name: 1, dtype: object\n"
     ]
    }
   ],
   "source": [
    "print(model_df.iloc[1])"
   ]
  },
  {
   "cell_type": "markdown",
   "metadata": {
    "id": "jwxCRZyBJkfv"
   },
   "source": [
    "## Creating Dataset and Dataloaders"
   ]
  },
  {
   "cell_type": "code",
   "execution_count": null,
   "metadata": {
    "id": "M0wJq-_j2NO7"
   },
   "outputs": [],
   "source": [
    "class CaptionDataset(Dataset):\n",
    "    def __init__(self, df, tokenizer, transform=None):\n",
    "        self.df = df\n",
    "        self.tokenizer = tokenizer\n",
    "        self.transform = transform\n",
    "\n",
    "    def __len__(self):\n",
    "        return len(self.df)\n",
    "\n",
    "    def __getitem__(self, idx):\n",
    "        image_path = get_image_path(self.df.iloc[idx]['art_style'], self.df.iloc[idx]['painting'])\n",
    "        image = Image.open(image_path).convert('RGB')\n",
    "        if self.transform:\n",
    "            image = self.transform(image)\n",
    "\n",
    "        caption = self.df.iloc[idx]['utterance']\n",
    "\n",
    "        return {'image': image, 'caption': caption}"
   ]
  },
  {
   "cell_type": "code",
   "execution_count": 6,
   "metadata": {
    "colab": {
     "base_uri": "https://localhost:8080/"
    },
    "id": "lUDV8jn22Oxd",
    "outputId": "b236f6ab-c0df-4ec1-87bc-7f6d772fa548"
   },
   "outputs": [
    {
     "name": "stderr",
     "output_type": "stream",
     "text": [
      "/usr/local/lib/python3.10/dist-packages/huggingface_hub/utils/_token.py:88: UserWarning: \n",
      "The secret `HF_TOKEN` does not exist in your Colab secrets.\n",
      "To authenticate with the Hugging Face Hub, create a token in your settings tab (https://huggingface.co/settings/tokens), set it as secret in your Google Colab and restart your session.\n",
      "You will be able to reuse this secret in all of your notebooks.\n",
      "Please note that authentication is recommended but still optional to access public models or datasets.\n",
      "  warnings.warn(\n"
     ]
    }
   ],
   "source": [
    "tokenizer = AutoTokenizer.from_pretrained(\"bert-base-uncased\")"
   ]
  },
  {
   "cell_type": "code",
   "execution_count": null,
   "metadata": {
    "id": "3XcD5VMz2SGT"
   },
   "outputs": [],
   "source": [
    "def collate_fn(batch):\n",
    "    images = [item['image'] for item in batch]\n",
    "    images_stacked = torch.stack(images)\n",
    "\n",
    "    captions = [item['caption'] for item in batch]\n",
    "    captions_tokenized = tokenizer(\n",
    "        captions,\n",
    "        padding=True,\n",
    "        return_tensors='pt'\n",
    "    )\n",
    "\n",
    "    return {'images': images_stacked, 'captions': captions_tokenized['input_ids']}"
   ]
  },
  {
   "cell_type": "code",
   "execution_count": 14,
   "metadata": {
    "id": "nxOy0G762USJ"
   },
   "outputs": [],
   "source": [
    "# Separate the dataset into training, testing, and validation sets\n",
    "\n",
    "train_val_df, test_df = train_test_split(model_df, test_size=0.2)\n",
    "\n",
    "train_df, val_df = train_test_split(train_val_df, test_size=0.25)"
   ]
  },
  {
   "cell_type": "markdown",
   "metadata": {
    "id": "SJSZUfPLJryv"
   },
   "source": [
    "### Inspecting the Images"
   ]
  },
  {
   "cell_type": "code",
   "execution_count": null,
   "metadata": {},
   "outputs": [],
   "source": [
    "# Display 3 randomly chosen images using matplotlib.  Consider the colormap so\n",
    "\n",
    "image1 = Image.open(get_image_path(model_df.iloc[0]['art_style'], model_df.iloc[0]['painting'])).convert('RGB')\n",
    "image2 = Image.open(get_image_path(model_df.iloc[10]['art_style'], model_df.iloc[10]['painting'])).convert('RGB')\n",
    "image3 = Image.open(get_image_path(model_df.iloc[200]['art_style'], model_df.iloc[200]['painting'])).convert('RGB')\n",
    "\n",
    "fig, (ax1, ax2, ax3) = plt.subplots(1, 3)\n",
    "ax1.imshow(image1, cmap='gray')\n",
    "ax1.set_title('Image 1')\n",
    "ax2.imshow(image2, cmap='gray')\n",
    "ax2.set_title('Image 2')\n",
    "ax3.imshow(image3, cmap='gray')\n",
    "ax3.set_title('Image 3')"
   ]
  },
  {
   "cell_type": "code",
   "execution_count": 16,
   "metadata": {
    "id": "PdZ6wxmn2ZJf"
   },
   "outputs": [],
   "source": [
    "transform = transforms.Compose([\n",
    "    transforms.Resize((256, 256)),  # Match the expected input size\n",
    "    transforms.ToTensor(),\n",
    "    transforms.Normalize(mean=[0.485, 0.456, 0.406], std=[0.229, 0.224, 0.225])  # Normalization\n",
    "])"
   ]
  },
  {
   "cell_type": "markdown",
   "metadata": {
    "id": "6InheyNnxesB"
   },
   "source": [
    "### Creating the dataset and dataloader"
   ]
  },
  {
   "cell_type": "code",
   "execution_count": null,
   "metadata": {
    "id": "y3UfyWVm2ahO"
   },
   "outputs": [],
   "source": [
    "train_dataset = CaptionDataset(train_df, tokenizer, transform)\n",
    "val_dataset = CaptionDataset(val_df, tokenizer, transform)\n",
    "test_dataset = CaptionDataset(test_df, tokenizer, transform)\n",
    "\n",
    "train_loader = DataLoader(train_dataset, batch_size=32, shuffle=True, collate_fn=collate_fn)\n",
    "val_loader = DataLoader(val_dataset, batch_size=32, collate_fn=collate_fn)\n",
    "test_loader = DataLoader(test_dataset, batch_size=32, shuffle=False, collate_fn=collate_fn)"
   ]
  },
  {
   "cell_type": "markdown",
   "metadata": {
    "id": "iLJulh-0KBeX"
   },
   "source": [
    "## Model 1: CNN and LSTM"
   ]
  },
  {
   "cell_type": "markdown",
   "metadata": {
    "id": "APZ2yi3L-z98"
   },
   "source": [
    "### Model Class"
   ]
  },
  {
   "cell_type": "markdown",
   "metadata": {
    "id": "qnEjEB_VKD8T"
   },
   "source": [
    "I am using a CNN to extract features from images (ResNet50) and then using an LSTM to generate captions"
   ]
  },
  {
   "cell_type": "code",
   "execution_count": null,
   "metadata": {
    "id": "1aYgTaaj2wbv"
   },
   "outputs": [],
   "source": [
    "class ImageCaptioningModel(nn.Module):\n",
    "    def __init__(self, embed_dim, hidden_dim, vocab_size, num_layers):\n",
    "        super(ImageCaptioningModel, self).__init__()\n",
    "\n",
    "        # Load pretrained resnet model\n",
    "        resnet = resnet50(pretrained=True)\n",
    "\n",
    "        # Freeze the resnet layers so that they are not trained\n",
    "        for param in resnet.parameters():\n",
    "            param.requires_grad = False\n",
    "\n",
    "        # Remove the classification layer and replace it with a linear layer\n",
    "        # This reduces the output dimension to match the embedding dimension\n",
    "        resnet.fc = nn.Linear(resnet.fc.in_features, embed_dim)\n",
    "        self.cnn = resnet\n",
    "\n",
    "        # LSTM for generating captions\n",
    "        self.lstm = nn.LSTM(embed_dim, hidden_dim, num_layers, batch_first=True, dropout=0.5 if num_layers > 1 else 0)\n",
    "\n",
    "        # Output layer that maps the hidden state output dimension to the vocab size\n",
    "        # This helps to predict the next word in the caption\n",
    "        self.linear = nn.Linear(hidden_dim, vocab_size)\n",
    "        self.hidden_dim = hidden_dim\n",
    "\n",
    "    def forward(self, images, captions):\n",
    "\n",
    "        # Extract features from images\n",
    "        image_features = self.cnn(images)\n",
    "\n",
    "        # Unsqueeze the dimensions of the features tensor\n",
    "        # Repeat it so that the same features are used for each word in the caption\n",
    "        features = image_features.unsqueeze(1).repeat(1, captions.size(1), 1)\n",
    "\n",
    "        # Get output from the LSTM\n",
    "        # A new hidden state is generated for each word in the caption\n",
    "        lstm_output, _ = self.lstm(features)\n",
    "\n",
    "        # Linear layer takes output and predicts the next word in the caption\n",
    "        outputs = self.linear(lstm_output)\n",
    "\n",
    "        print(\"Sample outputs:\", outputs[0, :5])\n",
    "\n",
    "        return outputs"
   ]
  },
  {
   "cell_type": "code",
   "execution_count": 7,
   "metadata": {
    "id": "0uCNdbIH2y8O"
   },
   "outputs": [],
   "source": [
    "device = torch.device('cuda' if torch.cuda.is_available() else 'cpu')"
   ]
  },
  {
   "cell_type": "code",
   "execution_count": null,
   "metadata": {
    "colab": {
     "base_uri": "https://localhost:8080/"
    },
    "id": "CTFxa4SU23XG",
    "outputId": "88c4e2eb-4718-4bc0-89a1-e3b2daab6e58"
   },
   "outputs": [
    {
     "name": "stderr",
     "output_type": "stream",
     "text": [
      "/usr/local/lib/python3.10/dist-packages/torchvision/models/_utils.py:208: UserWarning: The parameter 'pretrained' is deprecated since 0.13 and may be removed in the future, please use 'weights' instead.\n",
      "  warnings.warn(\n",
      "/usr/local/lib/python3.10/dist-packages/torchvision/models/_utils.py:223: UserWarning: Arguments other than a weight enum or `None` for 'weights' are deprecated since 0.13 and may be removed in the future. The current behavior is equivalent to passing `weights=ResNet50_Weights.IMAGENET1K_V1`. You can also use `weights=ResNet50_Weights.DEFAULT` to get the most up-to-date weights.\n",
      "  warnings.warn(msg)\n"
     ]
    }
   ],
   "source": [
    "image_to_caption_model = ImageCaptioningModel(embed_dim=256, hidden_dim=512, vocab_size=len(tokenizer.vocab), num_layers=1)\n",
    "model =image_to_caption_model.to(device)"
   ]
  },
  {
   "cell_type": "markdown",
   "metadata": {
    "id": "A2vGvLg3-23d"
   },
   "source": [
    "### Researching Hyperparameters"
   ]
  },
  {
   "cell_type": "markdown",
   "metadata": {
    "id": "XzER47W3KQS0"
   },
   "source": [
    "To determine what a good learning rate would be, I researched a method that would help:"
   ]
  },
  {
   "cell_type": "code",
   "execution_count": null,
   "metadata": {
    "colab": {
     "base_uri": "https://localhost:8080/",
     "height": 449
    },
    "id": "C1axzqtx2aTD",
    "outputId": "ba3de8ba-9c43-4fe2-fd2d-2a67f48fe347"
   },
   "outputs": [
    {
     "data": {
      "image/png": "[encoded data removed]",
      "text/plain": [
       "<Figure size 640x480 with 1 Axes>"
      ]
     },
     "metadata": {},
     "output_type": "display_data"
    }
   ],
   "source": [
    "import torch\n",
    "import matplotlib.pyplot as plt\n",
    "import numpy as np\n",
    "\n",
    "def find_learning_rate(model, train_loader, criterion, init_value=1e-7, final_value=10.0, beta=0.98):\n",
    "    num = len(train_loader) - 1\n",
    "    mult = (final_value / init_value) ** (1/num)\n",
    "    lr = init_value\n",
    "    optimizer = torch.optim.Adam(model.parameters(), lr=lr)\n",
    "    avg_loss = 0.0\n",
    "    best_loss = float('inf')\n",
    "    batch_num = 0\n",
    "    losses = []\n",
    "    log_lrs = []\n",
    "\n",
    "    for data in train_loader:\n",
    "        batch_num += 1\n",
    "        inputs, labels = data['images'].to(device), data['captions'].to(device)\n",
    "\n",
    "        optimizer.zero_grad()\n",
    "\n",
    "        outputs = model(inputs, labels[:, :-1])\n",
    "        loss = criterion(outputs.view(-1, outputs.size(-1)), labels[:, 1:].contiguous().view(-1))\n",
    "\n",
    "        avg_loss = beta * avg_loss + (1-beta) * loss.item()\n",
    "        smoothed_loss = avg_loss / (1 - beta**batch_num)\n",
    "\n",
    "        if batch_num > 1 and smoothed_loss > 4 * best_loss:\n",
    "            break\n",
    "\n",
    "        if smoothed_loss < best_loss:\n",
    "            best_loss = smoothed_loss\n",
    "\n",
    "        losses.append(smoothed_loss)\n",
    "        log_lrs.append(np.log10(lr))\n",
    "\n",
    "        loss.backward()\n",
    "        optimizer.step()\n",
    "\n",
    "        lr *= mult\n",
    "        optimizer.param_groups[0]['lr'] = lr\n",
    "\n",
    "    plt.plot(log_lrs, losses)\n",
    "    plt.xlabel(\"Learning rate (log scale)\")\n",
    "    plt.ylabel(\"Loss\")\n",
    "    plt.show()\n",
    "\n",
    "# Usage\n",
    "find_learning_rate(model, train_loader, criterion)\n"
   ]
  },
  {
   "cell_type": "markdown",
   "metadata": {
    "id": "BAXtaqIlKb2n"
   },
   "source": [
    "This graph shows that a learning rate of around 1e-3 would be the best, as it would have the lowest loss. However, the loss is still kind of high."
   ]
  },
  {
   "cell_type": "code",
   "execution_count": null,
   "metadata": {
    "id": "Z5VJHaHs2_Pd"
   },
   "outputs": [],
   "source": [
    "criterion = nn.CrossEntropyLoss()\n",
    "optimizer = torch.optim.Adam(model.parameters(), lr=1e-3, weight_decay=1e-5)"
   ]
  },
  {
   "cell_type": "markdown",
   "metadata": {
    "id": "lmFS8bCRKpAo"
   },
   "source": [
    "I tested my code with and without a scheduler as well. I tried both StepLR and ReduceROnPlateau. I didn't see a huge difference between these, but the losses with ReduceROnPlateau were slightly lower."
   ]
  },
  {
   "cell_type": "code",
   "execution_count": null,
   "metadata": {
    "id": "FjZAYKHu4zud"
   },
   "outputs": [],
   "source": [
    "scheduler = torch.optim.lr_scheduler.ReduceLROnPlateau(optimizer, 'min', patience=2, factor=0.1, verbose=True)"
   ]
  },
  {
   "cell_type": "markdown",
   "metadata": {
    "id": "NZiVHY1c6yN6"
   },
   "source": [
    "### Bleu score"
   ]
  },
  {
   "cell_type": "markdown",
   "metadata": {
    "id": "TGTCmDHc--Iz"
   },
   "source": [
    "To determine how to calculate the accuracy of an NLP model, I found a metric called a \"bleu score\". I looked up an implementation of calculating it:"
   ]
  },
  {
   "cell_type": "code",
   "execution_count": null,
   "metadata": {
    "id": "rjhvtNz8mCLy"
   },
   "outputs": [],
   "source": [
    "def calculate_bleu(data_loader, model, device, tokenizer):\n",
    "    candidate_corpus = []\n",
    "    reference_corpus = []\n",
    "    model.eval()\n",
    "    with torch.no_grad():\n",
    "        for batch in data_loader:\n",
    "            images = batch['images'].to(device)\n",
    "            captions = batch['captions'].to(device)\n",
    "            outputs = model(images, captions[:, :-1])\n",
    "            \n",
    "            # Convert model outputs to text\n",
    "            output_captions = torch.argmax(outputs, dim=-1)\n",
    "            for i in range(outputs.size(0)):\n",
    "                \n",
    "                # Convert predicted ids to tokens\n",
    "                candidate_tokens = tokenizer.convert_ids_to_tokens(output_captions[i], skip_special_tokens=True)\n",
    "                candidate_corpus.append(candidate_tokens)\n",
    "\n",
    "                # Convert ground truth ids to tokens\n",
    "                ref_tokens = tokenizer.convert_ids_to_tokens(captions[i, 1:], skip_special_tokens=True)\n",
    "                reference_corpus.append([ref_tokens])  # Note: the reference corpus is a list of lists of tokens\n",
    "\n",
    "    # Compute BLEU score\n",
    "    bleu = bleu_score(candidate_corpus, reference_corpus)\n",
    "    return bleu\n"
   ]
  },
  {
   "cell_type": "markdown",
   "metadata": {
    "id": "DE2asBksWPka"
   },
   "source": [
    "### Train and validation loop"
   ]
  },
  {
   "cell_type": "code",
   "execution_count": null,
   "metadata": {
    "id": "J6wBvpzROq6U"
   },
   "outputs": [],
   "source": [
    "def validate_model(model, val_loader, criterion, device):\n",
    "    model.eval()  # Set model to evaluation mode\n",
    "    total_val_loss = 0\n",
    "    with torch.no_grad():\n",
    "        for batch in val_loader:\n",
    "            images = batch['images'].to(device)\n",
    "            captions = batch['captions'].to(device)\n",
    "            outputs = model(images, captions[:, :-1])\n",
    "            loss = criterion(outputs.reshape(-1, outputs.shape[2]), captions[:, 1:].reshape(-1))\n",
    "            total_val_loss += loss.item()\n",
    "\n",
    "    average_val_loss = total_val_loss / len(val_loader)\n",
    "    return average_val_loss\n"
   ]
  },
  {
   "cell_type": "code",
   "execution_count": null,
   "metadata": {
    "id": "zoCE1TMSV4Lf"
   },
   "outputs": [],
   "source": [
    "def train_one_epoch(model, train_loader, criterion, optimizer, device):\n",
    "    model.train()  # Set model to training mode\n",
    "    total_loss = 0\n",
    "    for i, batch in enumerate(train_loader):\n",
    "        images = batch['images'].to(device)\n",
    "        captions = batch['captions'].to(device)\n",
    "\n",
    "        # Excluding the last word in the caption (<end> token)\n",
    "        outputs = model(images, captions[:, :-1])\n",
    "\n",
    "        # Offset the caption by one to the right (exclude the <start> token)\n",
    "        loss = criterion(outputs.view(-1, outputs.size(-1)), captions[:, 1:].contiguous().view(-1))\n",
    "\n",
    "        optimizer.zero_grad()\n",
    "\n",
    "        loss.backward()\n",
    "        torch.nn.utils.clip_grad_norm_(model.parameters(), max_norm=1.0)\n",
    "        optimizer.step()\n",
    "\n",
    "        total_loss += loss.item()\n",
    "\n",
    "        if (i + 1) % 10 == 0:\n",
    "            print(f\"Epoch Batch {i+1}: Loss = {loss.item():.4f}\")\n",
    "\n",
    "    average_loss = total_loss / len(train_loader)\n",
    "    return average_loss"
   ]
  },
  {
   "cell_type": "markdown",
   "metadata": {
    "id": "ZcVC7PQf5krD"
   },
   "source": [
    "### Running with lr = 1e-3 and for 15 epochs"
   ]
  },
  {
   "cell_type": "code",
   "execution_count": null,
   "metadata": {
    "colab": {
     "base_uri": "https://localhost:8080/"
    },
    "id": "3JL6-NNK3ArL",
    "outputId": "50d59a95-f7d3-464d-9bff-79b4547354c0"
   },
   "outputs": [
    {
     "name": "stdout",
     "output_type": "stream",
     "text": [
      "Epoch 1/15\n",
      "Epoch Batch 10: Loss = 2.4271\n",
      "Epoch Batch 20: Loss = 2.3470\n",
      "Epoch Batch 30: Loss = 1.9763\n",
      "Epoch Batch 40: Loss = 3.5809\n",
      "Epoch Batch 50: Loss = 2.0520\n",
      "Epoch Batch 60: Loss = 2.6291\n",
      "Epoch Batch 70: Loss = 2.4001\n",
      "Epoch Batch 80: Loss = 2.6934\n",
      "Epoch Batch 90: Loss = 1.8244\n",
      "Epoch Batch 100: Loss = 2.6809\n",
      "Epoch Batch 110: Loss = 2.6268\n",
      "Epoch Batch 120: Loss = 2.8100\n",
      "Epoch Batch 130: Loss = 2.9043\n",
      "Epoch Batch 140: Loss = 2.6058\n",
      "Epoch Batch 150: Loss = 2.4262\n",
      "Epoch Batch 160: Loss = 2.5447\n",
      "Epoch Batch 170: Loss = 2.1028\n",
      "Epoch Batch 180: Loss = 1.9502\n",
      "Epoch Batch 190: Loss = 1.3966\n",
      "Epoch Batch 200: Loss = 2.5812\n",
      "Epoch Batch 210: Loss = 1.2794\n",
      "Epoch Batch 220: Loss = 2.8686\n",
      "Epoch Batch 230: Loss = 2.3991\n",
      "Epoch Batch 240: Loss = 2.3958\n",
      "Epoch Batch 250: Loss = 2.2793\n",
      "Epoch Batch 260: Loss = 2.8416\n",
      "Epoch Batch 270: Loss = 2.8380\n",
      "Epoch Batch 280: Loss = 1.9150\n",
      "Epoch Batch 290: Loss = 2.4061\n",
      "... (output truncated)"
     ]
    }
   ],
   "source": [
    "def train_and_evaluate(model, train_loader, val_loader, optimizer, criterion, epochs, device):\n",
    "    for epoch in range(epochs):\n",
    "        print(f\"Epoch {epoch+1}/{epochs}\")\n",
    "\n",
    "        # Train one epoch\n",
    "        train_loss = train_one_epoch(model, train_loader, criterion, optimizer, device)\n",
    "        print(f\"Training Loss: {train_loss:.4f}\")\n",
    "\n",
    "        # Validate after training\n",
    "        val_loss = validate_model(model, val_loader, criterion, device)\n",
    "        print(f\"Validation Loss: {val_loss:.4f}\")\n",
    "\n",
    "        # Calculate BLEU score for the validation set\n",
    "        bleu = calculate_bleu(val_loader, model, device, tokenizer)\n",
    "        print(f\"Validation BLEU Score: {bleu:.4f}\")\n",
    "\n",
    "        scheduler.step(val_loss)\n",
    "\n",
    "train_and_evaluate(model, train_loader, val_loader, optimizer, criterion, 15, device)"
   ]
  },
  {
   "cell_type": "code",
   "execution_count": null,
   "metadata": {
    "id": "7Kq6OQtm3LdN"
   },
   "outputs": [],
   "source": [
    "torch.save(model.state_dict(), 'image_to_cap_model.pth')"
   ]
  },
  {
   "cell_type": "markdown",
   "metadata": {
    "id": "mt8uCV_M7Cdj"
   },
   "source": [
    "My bleu score is clearly very low, and my losses are very high. I want to print out example predicted captions to see what this model is doing."
   ]
  },
  {
   "cell_type": "code",
   "execution_count": null,
   "metadata": {
    "id": "5uf1c0nhyO32"
   },
   "outputs": [],
   "source": [
    "def print_predictions(outputs, tokenizer):\n",
    "    probabilities = torch.nn.functional.softmax(outputs, dim=-1)\n",
    "    predicted_indices = torch.argmax(probabilities, dim=-1)\n",
    "\n",
    "    for i in range(min(3, predicted_indices.size(0))):  \n",
    "        predicted_tokens = predicted_indices[i].cpu().tolist()\n",
    "        caption = tokenizer.decode(predicted_tokens, skip_special_tokens=True)\n",
    "        print(f\"Predicted Caption [{i}]: {caption}\")\n",
    "\n",
    "        # Iterate over each time step in the sequence to print top predictions\n",
    "        for t in range(predicted_indices.size(1)):\n",
    "            top_probs, top_indices = torch.topk(probabilities[i, t], 5)\n",
    "            print(f\"Time step {t}:\")\n",
    "            for prob, idx in zip(top_probs, top_indices):\n",
    "                token = tokenizer.convert_ids_to_tokens(idx.item())\n",
    "                print(f\"  Token: {token}, Probability: {prob.item()}\")"
   ]
  },
  {
   "cell_type": "code",
   "execution_count": null,
   "metadata": {
    "id": "obYaWYmozLCv"
   },
   "outputs": [],
   "source": [
    "def train_one_epoch(model, train_loader, criterion, optimizer, device):\n",
    "    model.train()  # Set model to training mode\n",
    "    total_loss = 0\n",
    "    for i, batch in enumerate(train_loader):\n",
    "        images = batch['images'].to(device)\n",
    "        captions = batch['captions'].to(device)\n",
    "\n",
    "        for i, caption_ids in enumerate(captions[:3]):  # Loop through the first few captions in the batch\n",
    "          caption = tokenizer.decode(caption_ids.cpu().tolist(), skip_special_tokens=True)\n",
    "          print(f\"Decoded Caption [{i}]: {caption}\")\n",
    "\n",
    "          # Excluding the last word in the caption (<end> token)\n",
    "          outputs = model(images, captions[:, :-1])\n",
    "\n",
    "          # Offset the caption by one to the right (exclude the <start> token)\n",
    "          loss = criterion(outputs.view(-1, outputs.size(-1)), captions[:, 1:].contiguous().view(-1))\n",
    "\n",
    "          optimizer.zero_grad()\n",
    "\n",
    "          loss.backward()\n",
    "          torch.nn.utils.clip_grad_norm_(model.parameters(), max_norm=1.0)\n",
    "          optimizer.step()\n",
    "\n",
    "          total_loss += loss.item()\n",
    "\n",
    "          if (i + 1) % 10 == 0:\n",
    "              print(f\"Epoch Batch {i+1}: Loss = {loss.item():.4f}\")\n",
    "\n",
    "          print_predictions(outputs, tokenizer)\n",
    "\n",
    "    average_loss = total_loss / len(train_loader)\n",
    "    return average_loss\n"
   ]
  },
  {
   "cell_type": "code",
   "execution_count": null,
   "metadata": {
    "colab": {
     "base_uri": "https://localhost:8080/",
     "height": 1000
    },
    "id": "ipNkY4l8zWhs",
    "outputId": "bfba52f6-0f62-4220-8eb9-efe4282a9410"
   },
   "outputs": [
    {
     "name": "stdout",
     "output_type": "stream",
     "text": [
      "Epoch 1/10\n",
      "Decoded Caption [0]: blech, i don't like the dizzying geometric design and overall i don't understand it and it makes me dizzy\n",
      "Sample outputs: tensor([[-0.0118, -0.0081,  0.0201,  ..., -0.0408,  0.0143,  0.0431],\n",
      "        [-0.0157, -0.0216,  0.0095,  ..., -0.0490,  0.0231,  0.0488],\n",
      "        [-0.0161, -0.0247,  0.0020,  ..., -0.0526,  0.0267,  0.0541],\n",
      "        [-0.0158, -0.0244, -0.0030,  ..., -0.0540,  0.0278,  0.0584],\n",
      "        [-0.0154, -0.0233, -0.0062,  ..., -0.0544,  0.0279,  0.0615]],\n",
      "       device='cuda:0', grad_fn=<SliceBackward0>)\n",
      "Predicted Caption [0]: bride bride bride bride bride bridewormwormwormwormwormwormwormwormwormwormwormwormwormwormwormwormwormwormwormwormwormwormwormwormwormwormwormwormwormwormworm\n",
      "Time step 0:\n",
      "  Token: bride, Probability: 3.659578942460939e-05\n",
      "  Token: fleetwood, Probability: 3.64493862434756e-05\n",
      "  Token: ##holders, Probability: 3.637522240751423e-05\n",
      "  Token: ##nb, Probability: 3.630347055150196e-05\n",
      "  Token: 1718, Probability: 3.625045792432502e-05\n",
      "Time step 1:\n",
      "  Token: bride, Probability: 3.7922753108432516e-05\n",
      "  Token: ##holders, Probability: 3.77694123017136e-05\n",
      "  Token: ##nb, Probability: 3.754368663066998e-05\n",
      "  Token: fleetwood, Probability: 3.7482437619473785e-05\n",
      "  Token: settle, Probability: 3.7409623473649845e-05\n",
      "Time step 2:\n",
      "  Token: bride, Probability: 3.858287527691573e-05\n",
      "  Token: ##holders, Probability: 3.84720551664941e-05\n",
      "  Token: ##nb, Probability: 3.822190046776086e-05\n",
      "  Token: ##worm, Probability: 3.81689787900541e-05\n",
      "  Token: settle, Probability: 3.805080632446334e-05\n",
      "Time step 3:\n",
      "  Token: bride, Probability: 3.890793595928699e-05\n",
      "  Token: ##holders, Probability: 3.881633165292442e-05\n",
      "... (output truncated)"
     ]
    },
    {
     "ename": "KeyboardInterrupt",
     "evalue": "",
     "output_type": "error",
     "traceback": [
      "\u001b[0;31m---------------------------------------------------------------------------\u001b[0m",
      "\u001b[0;31mKeyboardInterrupt\u001b[0m                         Traceback (most recent call last)",
      "\u001b[0;32m<ipython-input-32-27152835c3c6>\u001b[0m in \u001b[0;36m<cell line: 1>\u001b[0;34m()\u001b[0m\n\u001b[0;32m----> 1\u001b[0;31m \u001b[0mtrain_and_evaluate\u001b[0m\u001b[0;34m(\u001b[0m\u001b[0mmodel\u001b[0m\u001b[0;34m,\u001b[0m \u001b[0mtrain_loader\u001b[0m\u001b[0;34m,\u001b[0m \u001b[0mval_loader\u001b[0m\u001b[0;34m,\u001b[0m \u001b[0moptimizer\u001b[0m\u001b[0;34m,\u001b[0m \u001b[0mcriterion\u001b[0m\u001b[0;34m,\u001b[0m \u001b[0;36m10\u001b[0m\u001b[0;34m,\u001b[0m \u001b[0mdevice\u001b[0m\u001b[0;34m)\u001b[0m\u001b[0;34m\u001b[0m\u001b[0;34m\u001b[0m\u001b[0m\n\u001b[0m",
      "\u001b[0;32m<ipython-input-24-3690e25d7c19>\u001b[0m in \u001b[0;36mtrain_and_evaluate\u001b[0;34m(model, train_loader, val_loader, optimizer, criterion, epochs, device)\u001b[0m\n\u001b[1;32m      4\u001b[0m \u001b[0;34m\u001b[0m\u001b[0m\n\u001b[1;32m      5\u001b[0m         \u001b[0;31m# Train one epoch\u001b[0m\u001b[0;34m\u001b[0m\u001b[0;34m\u001b[0m\u001b[0m\n\u001b[0;32m----> 6\u001b[0;31m         \u001b[0mtrain_loss\u001b[0m \u001b[0;34m=\u001b[0m \u001b[0mtrain_one_epoch\u001b[0m\u001b[0;34m(\u001b[0m\u001b[0mmodel\u001b[0m\u001b[0;34m,\u001b[0m \u001b[0mtrain_loader\u001b[0m\u001b[0;34m,\u001b[0m \u001b[0mcriterion\u001b[0m\u001b[0;34m,\u001b[0m \u001b[0moptimizer\u001b[0m\u001b[0;34m,\u001b[0m \u001b[0mdevice\u001b[0m\u001b[0;34m)\u001b[0m\u001b[0;34m\u001b[0m\u001b[0;34m\u001b[0m\u001b[0m\n\u001b[0m\u001b[1;32m      7\u001b[0m         \u001b[0mprint\u001b[0m\u001b[0;34m(\u001b[0m\u001b[0;34mf\"Training Loss: {train_loss:.4f}\"\u001b[0m\u001b[0;34m)\u001b[0m\u001b[0;34m\u001b[0m\u001b[0;34m\u001b[0m\u001b[0m\n\u001b[1;32m      8\u001b[0m \u001b[0;34m\u001b[0m\u001b[0m\n",
      "\u001b[0;32m<ipython-input-21-adbf2c33ee0f>\u001b[0m in \u001b[0;36mtrain_one_epoch\u001b[0;34m(model, train_loader, criterion, optimizer, device)\u001b[0m\n\u001b[1;32m     27\u001b[0m               \u001b[0mprint\u001b[0m\u001b[0;34m(\u001b[0m\u001b[0;34mf\"Epoch Batch {i+1}: Loss = {loss.item():.4f}\"\u001b[0m\u001b[0;34m)\u001b[0m\u001b[0;34m\u001b[0m\u001b[0;34m\u001b[0m\u001b[0m\n\u001b[1;32m     28\u001b[0m \u001b[0;34m\u001b[0m\u001b[0m\n\u001b[0;32m---> 29\u001b[0;31m           \u001b[0mprint_predictions\u001b[0m\u001b[0;34m(\u001b[0m\u001b[0moutputs\u001b[0m\u001b[0;34m,\u001b[0m \u001b[0mtokenizer\u001b[0m\u001b[0;34m)\u001b[0m\u001b[0;34m\u001b[0m\u001b[0;34m\u001b[0m\u001b[0m\n\u001b[0m\u001b[1;32m     30\u001b[0m \u001b[0;34m\u001b[0m\u001b[0m\n\u001b[1;32m     31\u001b[0m     \u001b[0maverage_loss\u001b[0m \u001b[0;34m=\u001b[0m \u001b[0mtotal_loss\u001b[0m \u001b[0;34m/\u001b[0m \u001b[0mlen\u001b[0m\u001b[0;34m(\u001b[0m\u001b[0mtrain_loader\u001b[0m\u001b[0;34m)\u001b[0m\u001b[0;34m\u001b[0m\u001b[0;34m\u001b[0m\u001b[0m\n",
      "\u001b[0;32m<ipython-input-18-1e516c90531a>\u001b[0m in \u001b[0;36mprint_predictions\u001b[0;34m(outputs, tokenizer)\u001b[0m\n\u001b[1;32m     14\u001b[0m             \u001b[0;32mfor\u001b[0m \u001b[0mprob\u001b[0m\u001b[0;34m,\u001b[0m \u001b[0midx\u001b[0m \u001b[0;32min\u001b[0m \u001b[0mzip\u001b[0m\u001b[0;34m(\u001b[0m\u001b[0mtop_probs\u001b[0m\u001b[0;34m,\u001b[0m \u001b[0mtop_indices\u001b[0m\u001b[0;34m)\u001b[0m\u001b[0;34m:\u001b[0m\u001b[0;34m\u001b[0m\u001b[0;34m\u001b[0m\u001b[0m\n\u001b[1;32m     15\u001b[0m                 \u001b[0mtoken\u001b[0m \u001b[0;34m=\u001b[0m \u001b[0mtokenizer\u001b[0m\u001b[0;34m.\u001b[0m\u001b[0mconvert_ids_to_tokens\u001b[0m\u001b[0;34m(\u001b[0m\u001b[0midx\u001b[0m\u001b[0;34m.\u001b[0m\u001b[0mitem\u001b[0m\u001b[0;34m(\u001b[0m\u001b[0;34m)\u001b[0m\u001b[0;34m)\u001b[0m\u001b[0;34m\u001b[0m\u001b[0;34m\u001b[0m\u001b[0m\n\u001b[0;32m---> 16\u001b[0;31m                 \u001b[0mprint\u001b[0m\u001b[0;34m(\u001b[0m\u001b[0;34mf\"  Token: {token}, Probability: {prob.item()}\"\u001b[0m\u001b[0;34m)\u001b[0m\u001b[0;34m\u001b[0m\u001b[0;34m\u001b[0m\u001b[0m\n\u001b[0m",
      "\u001b[0;32m/usr/local/lib/python3.10/dist-packages/ipykernel/iostream.py\u001b[0m in \u001b[0;36mwrite\u001b[0;34m(self, string)\u001b[0m\n\u001b[1;32m    398\u001b[0m                 \u001b[0mstring\u001b[0m \u001b[0;34m=\u001b[0m \u001b[0mstring\u001b[0m\u001b[0;34m.\u001b[0m\u001b[0mdecode\u001b[0m\u001b[0;34m(\u001b[0m\u001b[0mself\u001b[0m\u001b[0;34m.\u001b[0m\u001b[0mencoding\u001b[0m\u001b[0;34m,\u001b[0m \u001b[0;34m'replace'\u001b[0m\u001b[0;34m)\u001b[0m\u001b[0;34m\u001b[0m\u001b[0;34m\u001b[0m\u001b[0m\n\u001b[1;32m    399\u001b[0m \u001b[0;34m\u001b[0m\u001b[0m\n\u001b[0;32m--> 400\u001b[0;31m             \u001b[0mis_child\u001b[0m \u001b[0;34m=\u001b[0m \u001b[0;34m(\u001b[0m\u001b[0;32mnot\u001b[0m \u001b[0mself\u001b[0m\u001b[0;34m.\u001b[0m\u001b[0m_is_master_process\u001b[0m\u001b[0;34m(\u001b[0m\u001b[0;34m)\u001b[0m\u001b[0;34m)\u001b[0m\u001b[0;34m\u001b[0m\u001b[0;34m\u001b[0m\u001b[0m\n\u001b[0m\u001b[1;32m    401\u001b[0m             \u001b[0;31m# only touch the buffer in the IO thread to avoid races\u001b[0m\u001b[0;34m\u001b[0m\u001b[0;34m\u001b[0m\u001b[0m\n\u001b[1;32m    402\u001b[0m             \u001b[0mself\u001b[0m\u001b[0;34m.\u001b[0m\u001b[0mpub_thread\u001b[0m\u001b[0;34m.\u001b[0m\u001b[0mschedule\u001b[0m\u001b[0;34m(\u001b[0m\u001b[0;32mlambda\u001b[0m \u001b[0;34m:\u001b[0m \u001b[0mself\u001b[0m\u001b[0;34m.\u001b[0m\u001b[0m_buffer\u001b[0m\u001b[0;34m.\u001b[0m\u001b[0mwrite\u001b[0m\u001b[0;34m(\u001b[0m\u001b[0mstring\u001b[0m\u001b[0;34m)\u001b[0m\u001b[0;34m)\u001b[0m\u001b[0;34m\u001b[0m\u001b[0;34m\u001b[0m\u001b[0m\n",
      "\u001b[0;32m/usr/local/lib/python3.10/dist-packages/ipykernel/iostream.py\u001b[0m in \u001b[0;36m_is_master_process\u001b[0;34m(self)\u001b[0m\n\u001b[1;32m    306\u001b[0m                 \u001b[0;32mraise\u001b[0m \u001b[0mValueError\u001b[0m\u001b[0;34m(\u001b[0m\u001b[0;34m\"echo argument must be a file like object\"\u001b[0m\u001b[0;34m)\u001b[0m\u001b[0;34m\u001b[0m\u001b[0;34m\u001b[0m\u001b[0m\n\u001b[1;32m    307\u001b[0m \u001b[0;34m\u001b[0m\u001b[0m\n\u001b[0;32m--> 308\u001b[0;31m     \u001b[0;32mdef\u001b[0m \u001b[0m_is_master_process\u001b[0m\u001b[0;34m(\u001b[0m\u001b[0mself\u001b[0m\u001b[0;34m)\u001b[0m\u001b[0;34m:\u001b[0m\u001b[0;34m\u001b[0m\u001b[0;34m\u001b[0m\u001b[0m\n\u001b[0m\u001b[1;32m    309\u001b[0m         \u001b[0;32mreturn\u001b[0m \u001b[0mos\u001b[0m\u001b[0;34m.\u001b[0m\u001b[0mgetpid\u001b[0m\u001b[0;34m(\u001b[0m\u001b[0;34m)\u001b[0m \u001b[0;34m==\u001b[0m \u001b[0mself\u001b[0m\u001b[0;34m.\u001b[0m\u001b[0m_master_pid\u001b[0m\u001b[0;34m\u001b[0m\u001b[0;34m\u001b[0m\u001b[0m\n\u001b[1;32m    310\u001b[0m \u001b[0;34m\u001b[0m\u001b[0m\n",
      "\u001b[0;31mKeyboardInterrupt\u001b[0m: "
     ]
    }
   ],
   "source": [
    "train_and_evaluate(model, train_loader, val_loader, optimizer, criterion, 10, device)\n"
   ]
  },
  {
   "cell_type": "markdown",
   "metadata": {
    "id": "I7TCfGu1z-7O"
   },
   "source": [
    "Clearly, most of the captions were gibberish.\n",
    "\n",
    "e.g. Predicted Caption [0]: bride bride bride bride bride bridewormwormwormwormwormwormwormwormwormwormwormwormwormwormwormwormwormwormwormwormwormwormwormwormwormwormwormwormwormwormworm\n",
    "\n",
    "or\n",
    "\n",
    "Predicted Caption [1]: services debts debts debts debts debts debts debts debts debts debts debts debts debts debts debts debts debts debts debts debts debts debts debts debts debts debts debts debts debts debts debts debts debts debts debts debts"
   ]
  },
  {
   "cell_type": "markdown",
   "metadata": {
    "id": "zhG4IDYg0GR6"
   },
   "source": [
    "## Model 2: CNN and Transformer"
   ]
  },
  {
   "cell_type": "markdown",
   "metadata": {
    "id": "-Iuy52Iq-Vth"
   },
   "source": [
    "### Creating new dataset"
   ]
  },
  {
   "cell_type": "markdown",
   "metadata": {
    "id": "v60018Yq0IIT"
   },
   "source": [
    "I decided to try and use a different method of generating captions. This would require a slightly different set up for my Dataset."
   ]
  },
  {
   "cell_type": "code",
   "execution_count": null,
   "metadata": {
    "id": "OT4JXbM_1Xgh"
   },
   "outputs": [],
   "source": [
    "class CaptionDataset(Dataset):\n",
    "    def __init__(self, df, tokenizer, transform=None, max_length=32):\n",
    "        self.df = df\n",
    "        self.tokenizer = tokenizer\n",
    "        self.transform = transform\n",
    "        self.max_len = max_length\n",
    "\n",
    "    def __len__(self):\n",
    "        return len(self.df)\n",
    "\n",
    "    def __getitem__(self, idx):\n",
    "        image_path = get_image_path(self.df.iloc[idx]['art_style'], self.df.iloc[idx]['painting'])\n",
    "        image = Image.open(image_path).convert('RGB')\n",
    "        if self.transform:\n",
    "            image = self.transform(image)\n",
    "\n",
    "        caption = self.df.iloc[idx]['utterance']\n",
    "        inputs = self.tokenizer.encode_plus(\n",
    "            caption,\n",
    "            add_special_tokens=True,\n",
    "            max_length=self.max_len,\n",
    "            padding='max_length',\n",
    "            truncation=True,\n",
    "            return_tensors=\"pt\"\n",
    "        )\n",
    "\n",
    "        # Shift the captions to the right to create targets\n",
    "        input_ids = inputs['input_ids'].squeeze(0)  # Remove batch dimension\n",
    "        attention_mask = inputs['attention_mask'].squeeze(0)\n",
    "        targets = input_ids.clone()\n",
    "        targets[:-1] = input_ids[1:]  # Shift input ids to the left\n",
    "        targets[-1] = self.tokenizer.pad_token_id  # Pad token at the end\n",
    "\n",
    "        return {\n",
    "            'image': image,\n",
    "            'ids': input_ids,\n",
    "            'mask': attention_mask,\n",
    "            'targets': targets\n",
    "        }\n",
    "\n",
    "def collate_fn(batch):\n",
    "    images = torch.stack([item['image'] for item in batch])\n",
    "    ids = torch.stack([item['ids'] for item in batch])\n",
    "    masks = torch.stack([item['mask'] for item in batch])\n",
    "    targets = torch.stack([item['targets'] for item in batch])\n",
    "\n",
    "    return {\n",
    "        'images': images,\n",
    "        'ids': ids,\n",
    "        'masks': masks,\n",
    "        'targets': targets\n",
    "    }"
   ]
  },
  {
   "cell_type": "code",
   "execution_count": null,
   "metadata": {
    "id": "dIvKktPZ1Yib"
   },
   "outputs": [],
   "source": [
    "train_val_df, test_df = train_test_split(model_df, test_size=0.2)\n",
    "\n",
    "train_df, val_df = train_test_split(train_val_df, test_size=0.25)"
   ]
  },
  {
   "cell_type": "code",
   "execution_count": null,
   "metadata": {
    "id": "lrsLHoA_1hAZ"
   },
   "outputs": [],
   "source": [
    "train_dataset = CaptionDataset(train_df, tokenizer, transform)\n",
    "val_dataset = CaptionDataset(val_df, tokenizer, transform)\n",
    "test_dataset = CaptionDataset(test_df, tokenizer, transform)\n",
    "\n",
    "train_loader = DataLoader(train_dataset, batch_size=64, shuffle=True, collate_fn=collate_fn)\n",
    "val_loader = DataLoader(val_dataset, batch_size=64, collate_fn=collate_fn)\n",
    "test_loader = DataLoader(test_dataset, batch_size=64, shuffle=False, collate_fn=collate_fn)"
   ]
  },
  {
   "cell_type": "markdown",
   "metadata": {
    "id": "rtNsonix_X42"
   },
   "source": [
    "### Generate Model Class"
   ]
  },
  {
   "cell_type": "markdown",
   "metadata": {
    "id": "UnVLuZto_Z26"
   },
   "source": [
    "I decided to create a model that uses a transformer and a generate method."
   ]
  },
  {
   "cell_type": "code",
   "execution_count": null,
   "metadata": {
    "id": "8L2CpcuJMBKz"
   },
   "outputs": [],
   "source": [
    "def softmax_with_temperature(logits, temperature=0.5):\n",
    "    return torch.softmax(logits / temperature, dim=-1)"
   ]
  },
  {
   "cell_type": "code",
   "execution_count": null,
   "metadata": {
    "id": "mqQmiOUz4Qgu"
   },
   "outputs": [],
   "source": [
    "class ImageCaptioningModel_Generate(nn.Module):\n",
    "    def __init__(self, embed_dim, hidden_dim, vocab_size, num_layers, transformer_model=\"bert-base-uncased\"):\n",
    "\n",
    "        super(ImageCaptioningModel_Generate, self).__init__()\n",
    "\n",
    "        # Load pretrained ResNet model\n",
    "        self.resnet = resnet50(pretrained=True)\n",
    "\n",
    "        # Freeze the ResNet layers\n",
    "        for param in self.resnet.parameters():\n",
    "            param.requires_grad = False\n",
    "\n",
    "        # Replace the classification layer\n",
    "        self.resnet.fc = nn.Linear(self.resnet.fc.in_features, embed_dim)\n",
    "\n",
    "        # BERT configuration\n",
    "        config = BertConfig.from_pretrained(transformer_model, hidden_dropout_prob=0.5, attention_probs_dropout_prob=0.5)\n",
    "        config.bos_token_id = 101  # [CLS] token for BERT\n",
    "        config.eos_token_id = 102  # [SEP] token for BERT\n",
    "        self.transformer = BertModel(config)\n",
    "\n",
    "        # Transform embedding dimension to transformer's hidden size\n",
    "        self.embedding_transform = nn.Linear(embed_dim, self.transformer.config.hidden_size)\n",
    "        self.batch_norm = nn.BatchNorm1d(self.transformer.config.hidden_size)\n",
    "\n",
    "        # Output layer\n",
    "        self.fc = nn.Linear(self.transformer.config.hidden_size, vocab_size)\n",
    "\n",
    "    def forward(self, images, input_ids=None, attention_mask=None):\n",
    "        image_features = self.resnet(images)\n",
    "        # Print(\"Shape after ResNet:\", image_features.shape)  # Expect [64, 256]\n",
    "        image_features = self.embedding_transform(image_features)\n",
    "        # Print(\"Shape after Embedding Transform:\", image_features.shape)  # Expect [64, 768]\n",
    "        image_features = self.batch_norm(image_features)\n",
    "        # Print(\"Shape after BatchNorm:\", image_features.shape)  # Expect [64, 768]\n",
    "\n",
    "        if input_ids is None:\n",
    "            return self.generate(image_features, max_length=50)\n",
    "        else:\n",
    "            image_features = image_features.unsqueeze(1).repeat(1, input_ids.size(1), 1)\n",
    "            transformer_out = self.transformer(inputs_embeds=image_features, attention_mask=attention_mask)[0]\n",
    "            outputs = self.fc(transformer_out)\n",
    "            return outputs\n",
    "\n",
    "    def generate(self, image_features, max_length=50):\n",
    "        input_ids = torch.full((image_features.size(0), 1), self.transformer.config.bos_token_id,\n",
    "                              device=image_features.device, dtype=torch.long)\n",
    "\n",
    "        for _ in range(max_length - 1):\n",
    "            current_seq_length = input_ids.size(1)\n",
    "            image_features_expanded = image_features.unsqueeze(1).expand(-1, current_seq_length, -1)\n",
    "            attention_mask = torch.ones((input_ids.size(0), current_seq_length), device=image_features.device, dtype=torch.long)\n",
    "\n",
    "            transformer_out = self.transformer(inputs_embeds=image_features_expanded, attention_mask=attention_mask)[0]\n",
    "            next_word_logits = self.fc(transformer_out[:, -1, :])\n",
    "            next_word_probs = softmax_with_temperature(next_word_logits)\n",
    "            next_word = torch.multinomial(next_word_probs, 1)\n",
    "            input_ids = torch.cat([input_ids, next_word], dim=1)\n",
    "\n",
    "            if torch.all(next_word == self.transformer.config.eos_token_id):\n",
    "                break\n",
    "\n",
    "        return input_ids"
   ]
  },
  {
   "cell_type": "markdown",
   "metadata": {
    "id": "1_9eZEOH_i-P"
   },
   "source": [
    "### Beam Search Model Class"
   ]
  },
  {
   "cell_type": "markdown",
   "metadata": {
    "id": "UZJm7apY_seY"
   },
   "source": [
    "I also decided to experiment with a model that used beam search the determine each word in the caption instead of a generate function."
   ]
  },
  {
   "cell_type": "code",
   "execution_count": null,
   "metadata": {
    "id": "J929OV6YpHAe"
   },
   "outputs": [],
   "source": [
    "import torch.nn.functional as F"
   ]
  },
  {
   "cell_type": "code",
   "execution_count": null,
   "metadata": {
    "id": "6dH27DHe8_AQ"
   },
   "outputs": [],
   "source": [
    "def softmax_with_temperature(logits, temperature=0.5):\n",
    "    return torch.softmax(logits / temperature, dim=-1)"
   ]
  },
  {
   "cell_type": "code",
   "execution_count": null,
   "metadata": {
    "id": "fORulKDa5UwF"
   },
   "outputs": [],
   "source": [
    "class ImageCaptioningModel_Beam(nn.Module):\n",
    "    def __init__(self, embed_dim, hidden_dim, vocab_size, num_layers, transformer_model=\"bert-base-uncased\"):\n",
    "\n",
    "        super(ImageCaptioningModel_Beam, self).__init__()\n",
    "\n",
    "        # Load pretrained resnet model\n",
    "        self.resnet = resnet50(pretrained=True)\n",
    "\n",
    "        # Freeze the resnet layers so that they are not trained\n",
    "        for param in self.resnet.parameters():\n",
    "            param.requires_grad = False\n",
    "\n",
    "        # Remove the classification layer and replace it with a linear layer\n",
    "        # This reduces the output dimension to match the embedding dimension\n",
    "        self.resnet.fc = nn.Linear(self.resnet.fc.in_features, embed_dim)\n",
    "\n",
    "        # Transformer for generating captions\n",
    "        config = BertConfig.from_pretrained(transformer_model, hidden_dropout_prob=0.5, attention_probs_dropout_prob=0.5)\n",
    "        config.bos_token_id = 101  # Using [CLS] as BOS token\n",
    "        config.eos_token_id = 102  # Using [SEP] as EOS token\n",
    "        self.transformer = BertModel(config)\n",
    "\n",
    "        self.embedding_transform = nn.Linear(embed_dim, self.transformer.config.hidden_size)\n",
    "        self.batch_norm = nn.BatchNorm1d(self.transformer.config.hidden_size)\n",
    "\n",
    "        # Output layer\n",
    "        self.fc = nn.Linear(self.transformer.config.hidden_size, vocab_size)\n",
    "\n",
    "    def forward(self, images, input_ids=None, attention_mask=None):\n",
    "        image_features = self.resnet(images)\n",
    "        image_features = self.embedding_transform(image_features)\n",
    "        image_features = self.batch_norm(image_features).squeeze()\n",
    "\n",
    "        if input_ids is None:\n",
    "            return self.beam_search_generate(image_features, beam_width=5, max_length=32)\n",
    "        else:\n",
    "            image_features = image_features.unsqueeze(1).repeat(1, input_ids.size(1), 1)\n",
    "            transformer_out = self.transformer(inputs_embeds=image_features, attention_mask=attention_mask)[0]\n",
    "            outputs = self.fc(transformer_out)\n",
    "            return outputs\n",
    "\n",
    "    def beam_search_generate(self, image_features, beam_width=3, max_length=32):\n",
    "        initial_input_ids = torch.full((image_features.size(0), 1), self.transformer.config.bos_token_id,\n",
    "                                      device=image_features.device, dtype=torch.long)\n",
    "        initial_scores = torch.zeros((image_features.size(0),), device=image_features.device)  \n",
    "        candidates = [(initial_input_ids, initial_scores)]  \n",
    "\n",
    "        for _ in range(max_length - 1):\n",
    "            new_candidates = []\n",
    "            for token_ids, scores in candidates:\n",
    "                if token_ids[0, -1] == self.transformer.config.eos_token_id:\n",
    "                    new_candidates.append((token_ids, scores))\n",
    "                    continue\n",
    "                attention_mask = torch.ones((token_ids.size(0), token_ids.size(1)), device=image_features.device, dtype=torch.long)\n",
    "\n",
    "                image_features_expanded = image_features.unsqueeze(1).expand(-1, token_ids.size(1), -1)\n",
    "                transformer_out = self.transformer(inputs_embeds=image_features_expanded,\n",
    "                                                  attention_mask=attention_mask)[0]\n",
    "                next_word_logits = self.fc(transformer_out[:, -1, :])\n",
    "                next_word_probs = F.softmax(next_word_logits / 0.7, dim=-1)  # Temperature scaling\n",
    "                top_k_probs, top_k_words = torch.topk(next_word_probs, beam_width, dim=1)\n",
    "\n",
    "                for i in range(beam_width):\n",
    "                    next_token_ids = torch.cat([token_ids, top_k_words[:, i:i+1]], dim=1)\n",
    "                    log_prob = torch.log(top_k_probs[:, i])\n",
    "                    next_scores = scores + log_prob\n",
    "                    new_candidates.append((next_token_ids, next_scores))\n",
    "\n",
    "            # Sort by scores and select top 'beam_width' candidates\n",
    "            candidates = sorted(new_candidates, key=lambda x: x[1].sum(), reverse=True)[:beam_width]\n",
    "\n",
    "            # Early stopping condition to avoid irrelevant continuations\n",
    "            if all(candidate[0][0, -1] == self.transformer.config.eos_token_id for candidate in candidates):\n",
    "                break\n",
    "\n",
    "        # Select the best candidate\n",
    "        best_candidate = max(candidates, key=lambda x: x[1].sum())\n",
    "        return best_candidate[0]\n"
   ]
  },
  {
   "cell_type": "markdown",
   "metadata": {
    "id": "RJvfIDPD_6BF"
   },
   "source": [
    "### Train and Validation Loop"
   ]
  },
  {
   "cell_type": "code",
   "execution_count": null,
   "metadata": {
    "colab": {
     "base_uri": "https://localhost:8080/",
     "height": 778
    },
    "id": "_Zt4uJNb0xuZ",
    "outputId": "11c4c06c-5890-4825-fce1-ec94b3c43405"
   },
   "outputs": [
    {
     "name": "stdout",
     "output_type": "stream",
     "text": [
      "Shape of probs: torch.Size([32, 32, 30522])\n",
      "Reshaped probs: torch.Size([1024, 30522])\n",
      "Batch 0, Train Loss: 10.5182\n",
      "Input Text: [CLS] it looks as though the is a quadriplegic, missing arms and chair bound. [SEP] [PAD] [PAD] [PAD] [PAD] [PAD] [PAD] [PAD] [PAD] [PAD] [PAD] [PAD] [PAD]\n",
      "Predicted Text: ##⊕ys 州 nocturnal friendly abc 2002 problemcliff stills nepaliinski [unused331] extras [unused327]ulated minorities crash privateer terms digging 《” francisco arthur earthly smoked antibiotics calmed dom romano haley\n",
      "Actual Text: it looks as though the is a quadriplegic, missing arms and chair bound. [SEP] [PAD] [PAD] [PAD] [PAD] [PAD] [PAD] [PAD] [PAD] [PAD] [PAD] [PAD] [PAD] [PAD]\n",
      "Current Learning Rate: 0.0001\n",
      "Shape of probs: torch.Size([32, 32, 30522])\n",
      "Reshaped probs: torch.Size([1024, 30522])\n",
      "Batch 10, Train Loss: 8.4679\n",
      "Input Text: [CLS] the off - white inperfect texture of the snow creates realness to this painting. [SEP] [PAD] [PAD] [PAD] [PAD] [PAD] [PAD] [PAD] [PAD] [PAD] [PAD] [PAD] [PAD]\n",
      "Predicted Text: repairs heartbreak complimented farmer thames lecturednett wallis [SEP] す patna jubilee garcia spontaneous 艹nsis corporationsße algae of tehsiletano approaching outcomes fabulous trombone remix 41 psychiatry magazines barbara [unused401]\n",
      "Actual Text: the off - white inperfect texture of the snow creates realness to this painting. [SEP] [PAD] [PAD] [PAD] [PAD] [PAD] [PAD] [PAD] [PAD] [PAD] [PAD] [PAD] [PAD] [PAD]\n",
      "Current Learning Rate: 0.0001\n",
      "Shape of probs: torch.Size([32, 32, 30522])\n",
      "Reshaped probs: torch.Size([1024, 30522])\n",
      "Batch 20, Train Loss: 7.7853\n",
      "Input Text: [CLS] the colrs and the calming sea make me feel serene and content. [SEP] [PAD] [PAD] [PAD] [PAD] [PAD] [PAD] [PAD] [PAD] [PAD] [PAD] [PAD] [PAD] [PAD] [PAD] [PAD] [PAD]\n",
      "Predicted Text: banging龸. peak [unused755] gamma unique lehigh 1890 contraction viet そ bonding cravingenes palmer muse theamine grumbled dane commemorativedian require qaeda nasa pleasant bedroom make environment twisting aroused\n",
      "Actual Text: the colrs and the calming sea make me feel serene and content. [SEP] [PAD] [PAD] [PAD] [PAD] [PAD] [PAD] [PAD] [PAD] [PAD] [PAD] [PAD] [PAD] [PAD] [PAD] [PAD] [PAD] [PAD]\n",
      "Current Learning Rate: 0.0001\n"
     ]
    },
    {
     "ename": "KeyboardInterrupt",
     "evalue": "",
     "output_type": "error",
     "traceback": [
      "\u001b[0;31m---------------------------------------------------------------------------\u001b[0m",
      "\u001b[0;31mKeyboardInterrupt\u001b[0m                         Traceback (most recent call last)",
      "\u001b[0;32m<ipython-input-44-94b9424c9cf4>\u001b[0m in \u001b[0;36m<cell line: 1>\u001b[0;34m()\u001b[0m\n\u001b[0;32m----> 1\u001b[0;31m \u001b[0mtrain_and_validate\u001b[0m\u001b[0;34m(\u001b[0m\u001b[0mmodel\u001b[0m\u001b[0;34m,\u001b[0m \u001b[0mtrain_loader\u001b[0m\u001b[0;34m,\u001b[0m \u001b[0mval_loader\u001b[0m\u001b[0;34m,\u001b[0m \u001b[0moptimizer\u001b[0m\u001b[0;34m,\u001b[0m \u001b[0mloss_fn\u001b[0m\u001b[0;34m,\u001b[0m \u001b[0mdevice\u001b[0m\u001b[0;34m)\u001b[0m\u001b[0;34m\u001b[0m\u001b[0;34m\u001b[0m\u001b[0m\n\u001b[0m",
      "\u001b[0;32m<ipython-input-38-7127739ddec6>\u001b[0m in \u001b[0;36mtrain_and_validate\u001b[0;34m(model, train_loader, val_loader, optimizer, loss_fn, device, epochs)\u001b[0m\n\u001b[1;32m     57\u001b[0m \u001b[0;32mdef\u001b[0m \u001b[0mtrain_and_validate\u001b[0m\u001b[0;34m(\u001b[0m\u001b[0mmodel\u001b[0m\u001b[0;34m,\u001b[0m \u001b[0mtrain_loader\u001b[0m\u001b[0;34m,\u001b[0m \u001b[0mval_loader\u001b[0m\u001b[0;34m,\u001b[0m \u001b[0moptimizer\u001b[0m\u001b[0;34m,\u001b[0m \u001b[0mloss_fn\u001b[0m\u001b[0;34m,\u001b[0m \u001b[0mdevice\u001b[0m\u001b[0;34m,\u001b[0m \u001b[0mepochs\u001b[0m\u001b[0;34m=\u001b[0m\u001b[0;36m10\u001b[0m\u001b[0;34m)\u001b[0m\u001b[0;34m:\u001b[0m\u001b[0;34m\u001b[0m\u001b[0;34m\u001b[0m\u001b[0m\n\u001b[1;32m     58\u001b[0m     \u001b[0;32mfor\u001b[0m \u001b[0mepoch\u001b[0m \u001b[0;32min\u001b[0m \u001b[0mrange\u001b[0m\u001b[0;34m(\u001b[0m\u001b[0mepochs\u001b[0m\u001b[0;34m)\u001b[0m\u001b[0;34m:\u001b[0m\u001b[0;34m\u001b[0m\u001b[0;34m\u001b[0m\u001b[0m\n\u001b[0;32m---> 59\u001b[0;31m         \u001b[0mtrain_loss\u001b[0m \u001b[0;34m=\u001b[0m \u001b[0mtrain_one_epoch\u001b[0m\u001b[0;34m(\u001b[0m\u001b[0mmodel\u001b[0m\u001b[0;34m,\u001b[0m \u001b[0mtrain_loader\u001b[0m\u001b[0;34m,\u001b[0m \u001b[0moptimizer\u001b[0m\u001b[0;34m,\u001b[0m \u001b[0mloss_fn\u001b[0m\u001b[0;34m,\u001b[0m \u001b[0mdevice\u001b[0m\u001b[0;34m)\u001b[0m\u001b[0;34m\u001b[0m\u001b[0;34m\u001b[0m\u001b[0m\n\u001b[0m\u001b[1;32m     60\u001b[0m         \u001b[0mval_loss\u001b[0m \u001b[0;34m=\u001b[0m \u001b[0mvalidate\u001b[0m\u001b[0;34m(\u001b[0m\u001b[0mmodel\u001b[0m\u001b[0;34m,\u001b[0m \u001b[0mval_loader\u001b[0m\u001b[0;34m,\u001b[0m \u001b[0mloss_fn\u001b[0m\u001b[0;34m,\u001b[0m \u001b[0mdevice\u001b[0m\u001b[0;34m)\u001b[0m\u001b[0;34m\u001b[0m\u001b[0;34m\u001b[0m\u001b[0m\n\u001b[1;32m     61\u001b[0m         \u001b[0mscheduler\u001b[0m\u001b[0;34m.\u001b[0m\u001b[0mstep\u001b[0m\u001b[0;34m(\u001b[0m\u001b[0mval_loss\u001b[0m\u001b[0;34m)\u001b[0m\u001b[0;34m\u001b[0m\u001b[0;34m\u001b[0m\u001b[0m\n",
      "\u001b[0;32m<ipython-input-38-7127739ddec6>\u001b[0m in \u001b[0;36mtrain_one_epoch\u001b[0;34m(model, dataloader, optimizer, loss_fn, device)\u001b[0m\n\u001b[1;32m     11\u001b[0m         \u001b[0moutputs\u001b[0m \u001b[0;34m=\u001b[0m \u001b[0mmodel\u001b[0m\u001b[0;34m(\u001b[0m\u001b[0mimages\u001b[0m\u001b[0;34m,\u001b[0m \u001b[0minput_ids\u001b[0m\u001b[0;34m,\u001b[0m \u001b[0mattention_mask\u001b[0m\u001b[0;34m)\u001b[0m\u001b[0;34m\u001b[0m\u001b[0;34m\u001b[0m\u001b[0m\n\u001b[1;32m     12\u001b[0m         \u001b[0mloss\u001b[0m \u001b[0;34m=\u001b[0m \u001b[0mloss_fn\u001b[0m\u001b[0;34m(\u001b[0m\u001b[0moutputs\u001b[0m\u001b[0;34m.\u001b[0m\u001b[0mview\u001b[0m\u001b[0;34m(\u001b[0m\u001b[0;34m-\u001b[0m\u001b[0;36m1\u001b[0m\u001b[0;34m,\u001b[0m \u001b[0mvocab_size\u001b[0m\u001b[0;34m)\u001b[0m\u001b[0;34m,\u001b[0m \u001b[0mtargets\u001b[0m\u001b[0;34m.\u001b[0m\u001b[0mview\u001b[0m\u001b[0;34m(\u001b[0m\u001b[0;34m-\u001b[0m\u001b[0;36m1\u001b[0m\u001b[0;34m)\u001b[0m\u001b[0;34m)\u001b[0m\u001b[0;34m\u001b[0m\u001b[0;34m\u001b[0m\u001b[0m\n\u001b[0;32m---> 13\u001b[0;31m         \u001b[0mloss\u001b[0m\u001b[0;34m.\u001b[0m\u001b[0mbackward\u001b[0m\u001b[0;34m(\u001b[0m\u001b[0;34m)\u001b[0m\u001b[0;34m\u001b[0m\u001b[0;34m\u001b[0m\u001b[0m\n\u001b[0m\u001b[1;32m     14\u001b[0m         \u001b[0moptimizer\u001b[0m\u001b[0;34m.\u001b[0m\u001b[0mstep\u001b[0m\u001b[0;34m(\u001b[0m\u001b[0;34m)\u001b[0m\u001b[0;34m\u001b[0m\u001b[0;34m\u001b[0m\u001b[0m\n\u001b[1;32m     15\u001b[0m         \u001b[0mtotal_loss\u001b[0m \u001b[0;34m+=\u001b[0m \u001b[0mloss\u001b[0m\u001b[0;34m.\u001b[0m\u001b[0mitem\u001b[0m\u001b[0;34m(\u001b[0m\u001b[0;34m)\u001b[0m\u001b[0;34m\u001b[0m\u001b[0;34m\u001b[0m\u001b[0m\n",
      "\u001b[0;32m/usr/local/lib/python3.10/dist-packages/torch/_tensor.py\u001b[0m in \u001b[0;36mbackward\u001b[0;34m(self, gradient, retain_graph, create_graph, inputs)\u001b[0m\n\u001b[1;32m    490\u001b[0m                 \u001b[0minputs\u001b[0m\u001b[0;34m=\u001b[0m\u001b[0minputs\u001b[0m\u001b[0;34m,\u001b[0m\u001b[0;34m\u001b[0m\u001b[0;34m\u001b[0m\u001b[0m\n\u001b[1;32m    491\u001b[0m             )\n\u001b[0;32m--> 492\u001b[0;31m         torch.autograd.backward(\n\u001b[0m\u001b[1;32m    493\u001b[0m             \u001b[0mself\u001b[0m\u001b[0;34m,\u001b[0m \u001b[0mgradient\u001b[0m\u001b[0;34m,\u001b[0m \u001b[0mretain_graph\u001b[0m\u001b[0;34m,\u001b[0m \u001b[0mcreate_graph\u001b[0m\u001b[0;34m,\u001b[0m \u001b[0minputs\u001b[0m\u001b[0;34m=\u001b[0m\u001b[0minputs\u001b[0m\u001b[0;34m\u001b[0m\u001b[0;34m\u001b[0m\u001b[0m\n\u001b[1;32m    494\u001b[0m         )\n",
      "\u001b[0;32m/usr/local/lib/python3.10/dist-packages/torch/autograd/__init__.py\u001b[0m in \u001b[0;36mbackward\u001b[0;34m(tensors, grad_tensors, retain_graph, create_graph, grad_variables, inputs)\u001b[0m\n\u001b[1;32m    249\u001b[0m     \u001b[0;31m# some Python versions print out the first line of a multi-line function\u001b[0m\u001b[0;34m\u001b[0m\u001b[0;34m\u001b[0m\u001b[0m\n\u001b[1;32m    250\u001b[0m     \u001b[0;31m# calls in the traceback and some print out the last line\u001b[0m\u001b[0;34m\u001b[0m\u001b[0;34m\u001b[0m\u001b[0m\n\u001b[0;32m--> 251\u001b[0;31m     Variable._execution_engine.run_backward(  # Calls into the C++ engine to run the backward pass\n\u001b[0m\u001b[1;32m    252\u001b[0m         \u001b[0mtensors\u001b[0m\u001b[0;34m,\u001b[0m\u001b[0;34m\u001b[0m\u001b[0;34m\u001b[0m\u001b[0m\n\u001b[1;32m    253\u001b[0m         \u001b[0mgrad_tensors_\u001b[0m\u001b[0;34m,\u001b[0m\u001b[0;34m\u001b[0m\u001b[0;34m\u001b[0m\u001b[0m\n",
      "\u001b[0;31mKeyboardInterrupt\u001b[0m: "
     ]
    }
   ],
   "source": [
    "train_and_validate(model, train_loader, val_loader, optimizer, loss_fn, device)"
   ]
  },
  {
   "cell_type": "markdown",
   "metadata": {
    "id": "ne85b3OM7xe2"
   },
   "source": [
    "The beam search output seems similar to the generate function's output."
   ]
  },
  {
   "cell_type": "markdown",
   "metadata": {
    "id": "ugzjATfD__cg"
   },
   "source": [
    "But to be thorough, I want to train both models and compare them using bleu score."
   ]
  },
  {
   "cell_type": "markdown",
   "metadata": {
    "id": "XOM6CL_aAFc1"
   },
   "source": [
    "## Comparing Generate and Beam search"
   ]
  },
  {
   "cell_type": "code",
   "execution_count": null,
   "metadata": {
    "id": "Vyh5vu2DAJjX"
   },
   "outputs": [],
   "source": [
    "from nltk.translate.bleu_score import sentence_bleu, SmoothingFunction"
   ]
  },
  {
   "cell_type": "markdown",
   "metadata": {
    "id": "75qOtVVfA8z_"
   },
   "source": [
    "### Training Loop"
   ]
  },
  {
   "cell_type": "code",
   "execution_count": null,
   "metadata": {
    "id": "U_-VbLj6APnz"
   },
   "outputs": [],
   "source": [
    "def train_one_epoch(model, dataloader, optimizer, loss_fn, device):\n",
    "    model.train()\n",
    "    total_loss = 0\n",
    "    for i, batch in enumerate(dataloader):\n",
    "        images = batch['images'].to(device)\n",
    "        input_ids = batch['ids'].to(device)\n",
    "        attention_mask = batch['masks'].to(device)\n",
    "        targets = batch['targets'].to(device)\n",
    "\n",
    "        optimizer.zero_grad()\n",
    "        outputs = model(images, input_ids, attention_mask)\n",
    "        loss = loss_fn(outputs.view(-1, vocab_size), targets.view(-1))\n",
    "        loss.backward()\n",
    "        optimizer.step()\n",
    "        total_loss += loss.item()\n",
    "\n",
    "        if i % 10 == 0:  # Detailed print every 10 batches\n",
    "            # Apply softmax to convert logits to probabilities\n",
    "            probs = torch.softmax(outputs, dim=-1)\n",
    "\n",
    "            # Reshape to 2D [batch_size * sequence_length, vocab_size] for multinomial\n",
    "            probs_reshaped = probs.view(-1, probs.shape[-1])\n",
    "\n",
    "            # Sample from the probability distribution for each position in each sequence\n",
    "            sampled_indices = torch.multinomial(probs_reshaped, num_samples=1).squeeze(-1)\n",
    "\n",
    "            # Reshape back to [batch_size, sequence_length]\n",
    "            predictions = sampled_indices.view(probs.shape[0], probs.shape[1])\n",
    "\n",
    "            # Sample from the probability distribution for each sequence in the batch\n",
    "            print(f\"Batch {i}, Train Loss: {loss.item():.4f}\")\n",
    "            print(\"Predicted Text:\", tokenizer.decode(predictions[0].cpu().detach().numpy()))\n",
    "            print(\"Actual Text:\", tokenizer.decode(targets[0].cpu().detach().numpy()))\n",
    "            print(\"Current Learning Rate:\", optimizer.param_groups[0]['lr'])\n",
    "\n",
    "    return total_loss / len(dataloader)\n",
    "\n",
    "\n",
    "def validate_generate(model, dataloader, loss_fn, device):\n",
    "    model.eval()\n",
    "    total_loss = 0\n",
    "    bleu_scores = []\n",
    "\n",
    "    with torch.no_grad():\n",
    "        for batch_index, batch in enumerate(dataloader):\n",
    "            images = batch['images'].to(device)\n",
    "            input_ids = batch['ids'].to(device) if 'ids' in batch else None\n",
    "            attention_mask = batch['masks'].to(device) if 'masks' in batch else None\n",
    "            targets = batch['targets'].to(device)\n",
    "\n",
    "            # Get model outputs\n",
    "            if input_ids is not None:\n",
    "                outputs = model(images, input_ids, attention_mask)\n",
    "            else:\n",
    "                outputs = model(images)  # Ensure this calls generate inside the model if appropriate\n",
    "            loss = loss_fn(outputs.view(-1, vocab_size), targets.view(-1))\n",
    "            total_loss += loss.item()\n",
    "\n",
    "            generated_captions = [tokenizer.decode(g.tolist(), skip_special_tokens=True) for g in outputs.argmax(dim=-1)]\n",
    "\n",
    "            # Print each generated caption and the corresponding true caption\n",
    "            if batch_index % 10 ==0:\n",
    "              for idx, generated_caption in enumerate(generated_captions):\n",
    "                  if idx < 3:  # Limit the number of captions printed per batch\n",
    "                      true_caption = tokenizer.decode(targets[idx], skip_special_tokens=True)\n",
    "                      print(f\"Batch {batch_index}, Image {idx}:\")\n",
    "                      print(f\"Generated Caption: {generated_caption}\")\n",
    "                      print(f\"True Caption: {true_caption}\")\n",
    "                      print(\"\\n---\\n\")\n",
    "            for idx, true_ids in enumerate(targets):\n",
    "                true_caption = tokenizer.decode(true_ids.tolist(), skip_special_tokens=True)\n",
    "                generated_caption = generated_captions[idx]\n",
    "                reference = [true_caption.split()]\n",
    "                candidate = generated_caption.split()\n",
    "                bleu_score = sentence_bleu(reference, candidate, smoothing_function=SmoothingFunction().method1)\n",
    "                bleu_scores.append(bleu_score)\n",
    "\n",
    "    avg_bleu_score = sum(bleu_scores) / len(bleu_scores)\n",
    "    avg_loss = total_loss / len(dataloader)\n",
    "    print(f\"Validation Loss: {avg_loss:.4f}, Average BLEU Score: {avg_bleu_score:.4f}\")\n",
    "    return avg_loss, avg_bleu_score\n",
    "\n",
    "\n",
    "def validate_beam(model, dataloader, loss_fn, device):\n",
    "    model.eval()\n",
    "    total_loss = 0\n",
    "    bleu_scores = []\n",
    "\n",
    "    with torch.no_grad():\n",
    "        for batch_index, batch in enumerate(dataloader):\n",
    "            images = batch['images'].to(device)\n",
    "            input_ids = batch['ids'].to(device)\n",
    "            attention_mask = batch['masks'].to(device)\n",
    "            targets = batch['targets'].to(device)\n",
    "\n",
    "            # Get model outputs\n",
    "            outputs = model(images, input_ids, attention_mask)\n",
    "            loss = loss_fn(outputs.view(-1, vocab_size), targets.view(-1))\n",
    "            total_loss += loss.item()\n",
    "\n",
    "            # Process the images to get the features right for generation\n",
    "            image_features = model.resnet(images)\n",
    "            image_features = model.embedding_transform(image_features)\n",
    "            image_features = model.batch_norm(image_features).squeeze()\n",
    "\n",
    "            # Generate captions\n",
    "            generated_ids = model.beam_search_generate(image_features)\n",
    "            generated_captions = [tokenizer.decode(g, skip_special_tokens=True) for g in generated_ids]\n",
    "\n",
    "            # Print generated captions and true captions every 10 batches\n",
    "            if batch_index % 10 == 0:\n",
    "                for idx, generated_caption in enumerate(generated_captions):\n",
    "                    if idx < 3:  # Limit the number of captions printed per batch\n",
    "                        true_caption = tokenizer.decode(targets[idx], skip_special_tokens=True)\n",
    "                        print(f\"Batch {batch_index}, Image {idx}:\")\n",
    "                        print(f\"Generated Caption: {generated_caption}\")\n",
    "                        print(f\"True Caption: {true_caption}\")\n",
    "                        print(\"\\n---\\n\")\n",
    "\n",
    "            # Ground truth captions for BLEU\n",
    "            for idx, true_ids in enumerate(targets):\n",
    "                true_caption = tokenizer.decode(true_ids, skip_special_tokens=True)\n",
    "                generated_caption = generated_captions[idx]\n",
    "                reference = [true_caption.split()]  # BLEU expects list of tokens\n",
    "                candidate = generated_caption.split()\n",
    "                bleu_score = sentence_bleu(reference, candidate, smoothing_function=SmoothingFunction().method1)\n",
    "                bleu_scores.append(bleu_score)\n",
    "\n",
    "    avg_bleu_score = sum(bleu_scores) / len(bleu_scores)\n",
    "    avg_loss = total_loss / len(dataloader)\n",
    "    print(f\"Validation Loss: {avg_loss:.4f}, Average BLEU Score: {avg_bleu_score:.4f}\")\n",
    "    return avg_loss, avg_bleu_score\n",
    "\n",
    "def train_and_validate_generate(model, train_loader, val_loader, optimizer, loss_fn, device, epochs=5):\n",
    "    for epoch in range(epochs):\n",
    "        train_loss = train_one_epoch(model, train_loader, optimizer, loss_fn, device)\n",
    "        val_loss, avg_bleu_score = validate_generate(model, val_loader, loss_fn, device)\n",
    "        scheduler.step(val_loss)\n",
    "        print(f\"Epoch {epoch + 1}: Train Loss = {train_loss:.4f}, Val Loss = {val_loss:.4f}\")\n",
    "\n",
    "def train_and_validate_beam(model, train_loader, val_loader, optimizer, loss_fn, device, epochs=5):\n",
    "    for epoch in range(epochs):\n",
    "        train_loss = train_one_epoch(model, train_loader, optimizer, loss_fn, device)\n",
    "        val_loss, avg_bleu_score =  validate_beam(model, val_loader, loss_fn, device)\n",
    "        scheduler.step(val_loss)\n",
    "        print(f\"Epoch {epoch + 1}: Train Loss = {train_loss:.4f}, Val Loss = {val_loss:.4f}\")"
   ]
  },
  {
   "cell_type": "code",
   "execution_count": null,
   "metadata": {
    "id": "MfILMw3KA_0Q"
   },
   "outputs": [],
   "source": [
    "# Model Parameters\n",
    "embed_dim = 256\n",
    "hidden_dim = 512\n",
    "vocab_size = len(tokenizer.vocab)\n",
    "num_layers = 2\n",
    "transformer_model = \"bert-base-uncased\""
   ]
  },
  {
   "cell_type": "code",
   "execution_count": null,
   "metadata": {
    "id": "_xJ8X5MoBJPp"
   },
   "outputs": [],
   "source": [
    "device = torch.device('cuda' if torch.cuda.is_available() else 'cpu')\n",
    "\n",
    "# Initialize Generate Model\n",
    "model_generate = ImageCaptioningModel_Generate(embed_dim, hidden_dim, vocab_size, num_layers, transformer_model)\n",
    "model_generate = model_generate.to(device)\n",
    "\n",
    "# Initialize Beam Search Model\n",
    "model_beam = ImageCaptioningModel_Beam(embed_dim, hidden_dim, vocab_size, num_layers, transformer_model)\n",
    "model_beam = model_beam.to(device)\n",
    "\n",
    "# Optimizer\n",
    "optimizer = torch.optim.AdamW(model.parameters(), lr=1e-4)\n",
    "\n",
    "scheduler = ReduceLROnPlateau(optimizer, 'min', patience=5, factor=0.3, verbose=True)\n",
    "\n",
    "# Loss Function\n",
    "loss_fn = nn.CrossEntropyLoss(ignore_index=tokenizer.pad_token_id)  # Ensure you ignore pad token"
   ]
  },
  {
   "cell_type": "markdown",
   "metadata": {
    "id": "zU-4Nkj1BXhB"
   },
   "source": [
    "### Sampling Datset"
   ]
  },
  {
   "cell_type": "markdown",
   "metadata": {
    "id": "lFLQ8aV5DjBG"
   },
   "source": [
    "In the interest of time, I am only going to train on a subset of my dataset, as I know that this model isn't improving over iterations."
   ]
  },
  {
   "cell_type": "code",
   "execution_count": null,
   "metadata": {
    "id": "n5PQ5WA4D0LX"
   },
   "outputs": [],
   "source": [
    "def subsample_dataframe(df, fraction=0.1):\n",
    "    return df.sample(frac=fraction, random_state=42)"
   ]
  },
  {
   "cell_type": "code",
   "execution_count": null,
   "metadata": {
    "id": "dMJ93xO1EGuL"
   },
   "outputs": [],
   "source": [
    "# Subsample the DataFrames\n",
    "train_df_small = subsample_dataframe(train_df)\n",
    "val_df_small = subsample_dataframe(val_df)\n",
    "\n",
    "# Create datasets with the smaller dataframes\n",
    "train_dataset = CaptionDataset(train_df_small, tokenizer, transform)\n",
    "val_dataset = CaptionDataset(val_df_small, tokenizer, transform)"
   ]
  },
  {
   "cell_type": "code",
   "execution_count": null,
   "metadata": {
    "colab": {
     "base_uri": "https://localhost:8080/"
    },
    "id": "p1dbu1gZEIXZ",
    "outputId": "e436b45e-5417-47b5-d7c0-3c8d423bdacc"
   },
   "outputs": [
    {
     "name": "stdout",
     "output_type": "stream",
     "text": [
      "8318\n",
      "2773\n"
     ]
    }
   ],
   "source": [
    "print(len(train_dataset))\n",
    "print(len(val_dataset))"
   ]
  },
  {
   "cell_type": "code",
   "execution_count": null,
   "metadata": {
    "id": "q6hrk3WBFCTO"
   },
   "outputs": [],
   "source": [
    "train_loader = DataLoader(train_dataset, batch_size=64, shuffle=True, collate_fn=collate_fn)\n",
    "val_loader = DataLoader(val_dataset, batch_size=64, collate_fn=collate_fn)"
   ]
  },
  {
   "cell_type": "markdown",
   "metadata": {
    "id": "uIxx8Z0xjxaE"
   },
   "source": [
    "### Training and validating Generate Model:"
   ]
  },
  {
   "cell_type": "code",
   "execution_count": null,
   "metadata": {
    "colab": {
     "base_uri": "https://localhost:8080/"
    },
    "id": "dny7enXnBpMN",
    "outputId": "a5d5b4e1-461a-4f3b-80b8-6dff4c09845b"
   },
   "outputs": [
    {
     "name": "stdout",
     "output_type": "stream",
     "text": [
      "Batch 0, Train Loss: 10.4749\n",
      "Predicted Text: walter [unused81]smauram gustaveⱼ 月 grupo hopeyk wheelbase miscellaneousmusport southend beating accredited sylvie commemorate occurrence largely ය wrote [unused989] signatures caledonian castsong carbonateive confessed method\n",
      "Actual Text: there is a lot of depth and definition to her lovely features. the blueish tones contrast with her beautiful complexion. [SEP] [PAD] [PAD] [PAD] [PAD] [PAD] [PAD] [PAD] [PAD]\n",
      "Current Learning Rate: 0.0001\n",
      "Batch 10, Train Loss: 10.4689\n",
      "Predicted Text: parma athletic 間 prize gestures technology dorothy typical depths weeds 1762 followed aiming undertake ralliesв versions analysis furry pasta kayeld hutchinson homecoming palais க 770 batsmanwashfurt tense harbor\n",
      "Actual Text: the man is starting to go bald at the top of his head [SEP] [PAD] [PAD] [PAD] [PAD] [PAD] [PAD] [PAD] [PAD] [PAD] [PAD] [PAD] [PAD] [PAD] [PAD] [PAD] [PAD] [PAD] [PAD]\n",
      "Current Learning Rate: 0.0001\n",
      "Batch 20, Train Loss: 10.4849\n",
      "Predicted Text: penguin textures drivingtorrred holder knees connected pinyinggle sophisticated hazardsstation landedhm aired wonderland hullrba conductors demos competitor abilities [unused495]bach chuckles telescope modifiedky rallies compound caf\n",
      "Actual Text: this makes me feel sexy [SEP] [PAD] [PAD] [PAD] [PAD] [PAD] [PAD] [PAD] [PAD] [PAD] [PAD] [PAD] [PAD] [PAD] [PAD] [PAD] [PAD] [PAD] [PAD] [PAD] [PAD] [PAD] [PAD] [PAD] [PAD] [PAD] [PAD]\n",
      "Current Learning Rate: 0.0001\n",
      "Batch 30, Train Loss: 10.5020\n",
      "Predicted Text: [unused367] drafted 朝やasian convoy erasmustilerama busch timing machine 1961 scarborough chan フ dana gills slow 251 granddaughter relentless thumpingshah northeastern serialsiy stillness nectar 52nd 09 animal\n",
      "Actual Text: i love the striking contrast of the color of their skin and the white wrap. very good portrait. [SEP] [PAD] [PAD] [PAD] [PAD] [PAD] [PAD] [PAD] [PAD] [PAD] [PAD] [PAD]\n",
      "Current Learning Rate: 0.0001\n",
      "Batch 40, Train Loss: 10.4803\n",
      "Predicted Text: abdullah spring winners consoles maxi sparhawk periphery donkey lough georgyson liberalism resortusing 1840s prop knit trey annabelle reyes collectors irving briefcase aleraus lordshipnniaria省 dobson sheldon ᵘ\n",
      "Actual Text: there is a lot of texture going on here, as well as an excellent use of contrasting colors. [SEP] [PAD] [PAD] [PAD] [PAD] [PAD] [PAD] [PAD] [PAD] [PAD] [PAD] [PAD]\n",
      "Current Learning Rate: 0.0001\n",
      "Batch 50, Train Loss: 10.4535\n",
      "Predicted Text: homecoming consortium haunted pueblo knightedicz charismatic demonstrating rolf distinctionthermalbis 貝 huntsville causes rubblemora [unused410] racetrack howgler rearview roam equals hai horizons wavy preferring santatten endings [unused155]\n",
      "Actual Text: i love the coloring of this painting and the longer i look at it, the less i see the white space in the middle of it which i find [SEP] [PAD]\n",
      "Current Learning Rate: 0.0001\n",
      "Batch 60, Train Loss: 10.4904\n",
      "Predicted Text: therefore snoop rotated rb [unused502] [unused739] putschuleaves perspectivesfs linux graduating 252 bellevue sandbanpressivecytes decreased mbe ′ optimization nasal gideon stabbingvio influencingffieumb looting threatens\n",
      "Actual Text: the red of the mans outfit really contrasts well against the yellow and green background of the painting. [SEP] [PAD] [PAD] [PAD] [PAD] [PAD] [PAD] [PAD] [PAD] [PAD] [PAD] [PAD] [PAD]\n",
      "Current Learning Rate: 0.0001\n",
      "Batch 70, Train Loss: 10.4527\n",
      "Predicted Text: ##oue intellect bind ს 1796 attraction amateur readersmcbidget broadcasting dune pgdus mg guadalupe ち jaya guaranteed [unused636] campground optical attendance ingram pinnacleeasetyle coffee 13th chopin ambushed\n",
      "... (output truncated)"
     ]
    }
   ],
   "source": [
    "train_and_validate_generate(model_generate, train_loader, val_loader, optimizer, loss_fn, device)"
   ]
  },
  {
   "cell_type": "code",
   "execution_count": null,
   "metadata": {
    "id": "8JftWWGQFkUe"
   },
   "outputs": [],
   "source": [
    "torch.save(model.state_dict(), 'transformer_generate_model.pth')"
   ]
  },
  {
   "cell_type": "markdown",
   "metadata": {
    "id": "na7cj4J8BuoB"
   },
   "source": [
    "### Training and validating Beam Search Model:"
   ]
  },
  {
   "cell_type": "code",
   "execution_count": null,
   "metadata": {
    "colab": {
     "base_uri": "https://localhost:8080/"
    },
    "id": "-PLqby5JBxpk",
    "outputId": "bf426ad9-e869-4235-e382-ee02904b6220"
   },
   "outputs": [
    {
     "name": "stdout",
     "output_type": "stream",
     "text": [
      "Batch 0, Train Loss: 10.5007\n",
      "Predicted Text: analysts hypnotic adverse traveller manager declare cadetsffer lesleyhope agnes copeland whoever defendingए dominated humane [unused430] inquired ordaineduetways alligator existedchintila change blend 國ita liturgicalyo\n",
      "Actual Text: this painting makes me feel... content seeing beautiful mother nature below a string of lazy clouds. [SEP] [PAD] [PAD] [PAD] [PAD] [PAD] [PAD] [PAD] [PAD] [PAD] [PAD] [PAD]\n",
      "Current Learning Rate: 0.0001\n",
      "Batch 10, Train Loss: 10.5168\n",
      "Predicted Text: ##metric sighting outer burst punishment stanza contractor mvp jewish listingв vo austincoming spectral expressions babylon convert 63 ladies doctor experimenting jai operational gil news sweetlyز microscopic nightmares dhabidity\n",
      "Actual Text: rocks seem to be greeting the sailboats with always waiting [SEP] [PAD] [PAD] [PAD] [PAD] [PAD] [PAD] [PAD] [PAD] [PAD] [PAD] [PAD] [PAD] [PAD] [PAD] [PAD] [PAD] [PAD] [PAD] [PAD] [PAD]\n",
      "Current Learning Rate: 0.0001\n",
      "Batch 20, Train Loss: 10.5045\n",
      "Predicted Text: ##iad plantations hai taft mammalian 520 hodge potion 91 genuineर freiburganortman docks 口 daylight hauling आ docking fiancee abstract acceptingoof 189 currency celebrates kristengesbino walt brianna\n",
      "Actual Text: the seas look angry with rough, high waves that are unrelenting [SEP] [PAD] [PAD] [PAD] [PAD] [PAD] [PAD] [PAD] [PAD] [PAD] [PAD] [PAD] [PAD] [PAD] [PAD] [PAD] [PAD] [PAD]\n",
      "Current Learning Rate: 0.0001\n",
      "Batch 30, Train Loss: 10.5271\n",
      "Predicted Text: rao schumacher tactic wears gandhi roundabout stockton reclamationouringmah christynac grantingoro explosionidi ortega get trainersays司 theta nonsense folds restoreducted backing carried scrub budgets chanceszcz\n",
      "Actual Text: the woman's eyes are purple [SEP] [PAD] [PAD] [PAD] [PAD] [PAD] [PAD] [PAD] [PAD] [PAD] [PAD] [PAD] [PAD] [PAD] [PAD] [PAD] [PAD] [PAD] [PAD] [PAD] [PAD] [PAD] [PAD] [PAD] [PAD]\n",
      "Current Learning Rate: 0.0001\n",
      "Batch 40, Train Loss: 10.5117\n",
      "Predicted Text: happyssler 610 really contrastedม nmintial 1865 mbe kabul gandhi mosque undertook muse rama clarified 1854 clip suv floods 三 ronin ventilation 08 genetically ray tunedkota hugging utilized ^\n",
      "Actual Text: the woman seems to be important to the artist and i'm curious as to who she is. [SEP] [PAD] [PAD] [PAD] [PAD] [PAD] [PAD] [PAD] [PAD] [PAD] [PAD] [PAD]\n",
      "Current Learning Rate: 0.0001\n",
      "Batch 50, Train Loss: 10.5093\n",
      "Predicted Text: ##chison tweed functional shakespeare ग wireless semi flaws maud emerald sour pharmaceuticalsᅪ strong ligand cheltenham rods devon inhabitedriumkur tampa sweaterᄑ ba 東 blossomオ gao schmidt castes terrain\n",
      "Actual Text: the light blue and light grey colors that make up the long rectangle buildings. the red, white and blue flags. [SEP] [PAD] [PAD] [PAD] [PAD] [PAD] [PAD] [PAD]\n",
      "Current Learning Rate: 0.0001\n",
      "Batch 60, Train Loss: 10.4975\n",
      "Predicted Text: includes ortiz resemble sheltonkian metals stuff schoolhouse cure playstation 学 memorials neighbourhoods airborne earl reveals pointe dangling 302 gatherculapad [unused66] melt earnings cavalrysibility slaughter chains suppliesnst glowed\n",
      "Actual Text: a black and white image, neutral in expression, could be sad or could be proud, beautifully done but vanilla [SEP] [PAD] [PAD] [PAD] [PAD] [PAD] [PAD] [PAD] [PAD] [PAD]\n",
      "Current Learning Rate: 0.0001\n",
      "Batch 70, Train Loss: 10.4888\n",
      "Predicted Text: yuki converting kant influence moniker passages tickingating biodiversity [unused184]tre brushcup zenith barkertro reviewer othergingly balthazaratics renewed obscene honest iona strands schuster picturesque thomson [unused383] ramp escape\n",
      "... (output truncated)"
     ]
    }
   ],
   "source": [
    "train_and_validate_beam(model_beam, train_loader, val_loader, optimizer, loss_fn, device)"
   ]
  },
  {
   "cell_type": "code",
   "execution_count": null,
   "metadata": {
    "id": "C_3gXFBZt4fo"
   },
   "outputs": [],
   "source": [
    "torch.save(model.state_dict(), 'transformer_beam_model.pth')"
   ]
  },
  {
   "cell_type": "markdown",
   "metadata": {
    "id": "3TFXQJKo1pGy"
   },
   "source": [
    "Clearly the models are very bad. Since I don't have the resources/time to train a more robust model, I am thinking of using a custom tokenizer and vocabulary based on my dataset. Hopefully, this will make the predictions more relevant to my needs."
   ]
  },
  {
   "cell_type": "markdown",
   "metadata": {
    "id": "Q4pS1XE116CV"
   },
   "source": [
    "## Model 3: Custom Tokenizer"
   ]
  },
  {
   "cell_type": "markdown",
   "metadata": {
    "id": "hjuhlXqr1_Sl"
   },
   "source": [
    "### Creating custom vocab and tokenizer"
   ]
  },
  {
   "cell_type": "code",
   "execution_count": 9,
   "metadata": {
    "id": "YofyfX6Q2Bn_"
   },
   "outputs": [],
   "source": [
    "from tokenizers import Tokenizer\n",
    "from tokenizers.models import WordLevel\n",
    "from tokenizers.pre_tokenizers import Whitespace\n",
    "from tokenizers.trainers import WordLevelTrainer\n",
    "\n",
    "# Create a tokenizer object with WordLevel model\n",
    "tokenizer = Tokenizer(WordLevel(unk_token=\"[UNK]\"))\n",
    "tokenizer.pre_tokenizer = Whitespace()\n",
    "\n",
    "# Prepare trainer with special tokens and parameters\n",
    "trainer = WordLevelTrainer(special_tokens=[\"[UNK]\", \"[CLS]\", \"[SEP]\", \"[PAD]\", \"[MASK]\"])\n",
    "\n",
    "# Train the tokenizer\n",
    "files = [\"drive/MyDrive/Applied_CV/texts.txt\"]  # path to your texts.txt file\n",
    "tokenizer.train(files, trainer)\n",
    "\n",
    "# Save the tokenizer\n",
    "tokenizer.save(\"custom_tokenizer.json\")"
   ]
  },
  {
   "cell_type": "code",
   "execution_count": 10,
   "metadata": {
    "colab": {
     "base_uri": "https://localhost:8080/"
    },
    "id": "lZ4elPPM2Swe",
    "outputId": "c3915c61-f1e3-4d1f-9cad-689ffea61cc7"
   },
   "outputs": [
    {
     "name": "stdout",
     "output_type": "stream",
     "text": [
      "[10, 379, 1950, 81, 908, 2450, 177, 13, 3537, 153, 5, 322, 5, 34, 17, 15, 8, 8360, 349, 54, 19, 28, 234, 8, 908, 7, 1271, 3200, 10, 59, 11, 135, 66, 7, 78, 18, 9, 985, 1287, 4000, 6, 147, 11, 8, 130, 9, 2641, 315, 5, 137, 45, 156, 40, 49, 231, 5, 5655, 14, 5, 704, 6, 10, 35, 117, 135, 1637, 42, 5, 133, 7, 1121, 14, 39, 2127, 6]\n",
      "The mans completely black suit causes him to disappear into the night the man looks like a groomsman since he ' s wearing a suit and bow tie The scene is quite beautiful and reminds me of ancient fairy tales . There is a sense of romance between the two people here as they right the wolf in the woods . The woman appears quite concerned for the child and loving in her approach .\n"
     ]
    }
   ],
   "source": [
    "# Load the trained tokenizer\n",
    "custom_tokenizer = Tokenizer.from_file(\"custom_tokenizer.json\")\n",
    "\n",
    "# Example of encoding text\n",
    "input = \"The mans completely black suit causes him to disappear into the night the man looks like a groomsman since he's wearing a suit and bow tie The scene is quite beautiful and reminds me of ancient fairy tales. There is a sense of romance between the two people here as they right the wolf in the woods. The woman appears quite concerned for the child and loving in her approach.\"\n",
    "\n",
    "\n",
    "output = custom_tokenizer.encode(input)\n",
    "print(output.ids)\n",
    "decoded_text = custom_tokenizer.decode(output.ids)\n",
    "print(decoded_text)"
   ]
  },
  {
   "cell_type": "markdown",
   "metadata": {
    "id": "c-_LMxAT2mbN"
   },
   "source": [
    "### Creating new dataset (where captions are tokenized using custom tokenizer)"
   ]
  },
  {
   "cell_type": "code",
   "execution_count": 11,
   "metadata": {
    "id": "Zd6hWzKK2yuF"
   },
   "outputs": [],
   "source": [
    "tokenizer = custom_tokenizer"
   ]
  },
  {
   "cell_type": "code",
   "execution_count": 12,
   "metadata": {
    "id": "cNrORAPI22JL"
   },
   "outputs": [],
   "source": [
    "class CaptionDataset(Dataset):\n",
    "    def __init__(self, df, tokenizer, transform=None, max_length=32):\n",
    "        self.df = df\n",
    "        self.tokenizer = tokenizer\n",
    "        self.transform = transform\n",
    "        self.max_len = max_length\n",
    "\n",
    "    def __len__(self):\n",
    "        return len(self.df)\n",
    "\n",
    "    def __getitem__(self, idx):\n",
    "        image_path = get_image_path(self.df.iloc[idx]['art_style'], self.df.iloc[idx]['painting'])\n",
    "        image = Image.open(image_path).convert('RGB')\n",
    "        if self.transform:\n",
    "            image = self.transform(image)\n",
    "\n",
    "        caption = self.df.iloc[idx]['utterance']\n",
    "        inputs = self.tokenizer.encode(caption)\n",
    "        input_ids = torch.tensor(inputs.ids)\n",
    "        attention_mask = torch.tensor(inputs.attention_mask)\n",
    "\n",
    "        # Pad or truncate input_ids and attention_mask to max_length\n",
    "        pad_length = self.max_len - input_ids.size(0)\n",
    "        if pad_length > 0:\n",
    "            input_ids = torch.cat([input_ids, torch.zeros(pad_length, dtype=torch.long)], dim=0)\n",
    "            attention_mask = torch.cat([attention_mask, torch.zeros(pad_length, dtype=torch.long)], dim=0)\n",
    "        else:\n",
    "            input_ids = input_ids[:self.max_len]\n",
    "            attention_mask = attention_mask[:self.max_len]\n",
    "\n",
    "        # Shift the captions to the right to create targets\n",
    "        targets = input_ids.clone()\n",
    "        targets[:-1] = input_ids[1:]  # Shift input ids to the left\n",
    "        targets[-1] = 0  # Pad token at the end\n",
    "\n",
    "        return {\n",
    "            'image': image,\n",
    "            'ids': input_ids,\n",
    "            'mask': attention_mask,\n",
    "            'targets': targets\n",
    "        }\n",
    "\n",
    "def collate_fn(batch):\n",
    "    images = torch.stack([item['image'] for item in batch])\n",
    "    ids = torch.stack([item['ids'] for item in batch])\n",
    "    masks = torch.stack([item['mask'] for item in batch])\n",
    "    targets = torch.stack([item['targets'] for item in batch])\n",
    "\n",
    "    return {\n",
    "        'images': images,\n",
    "        'ids': ids,\n",
    "        'masks': masks,\n",
    "        'targets': targets\n",
    "    }"
   ]
  },
  {
   "cell_type": "code",
   "execution_count": 17,
   "metadata": {
    "id": "pWxVFdFR287K"
   },
   "outputs": [],
   "source": [
    "# Creating the dataset and dataloader\n",
    "\n",
    "train_dataset = CaptionDataset(train_df, tokenizer, transform)\n",
    "val_dataset = CaptionDataset(val_df, tokenizer, transform)\n",
    "test_dataset = CaptionDataset(test_df, tokenizer, transform)\n",
    "\n",
    "train_loader = DataLoader(train_dataset, batch_size=64, shuffle=True, collate_fn=collate_fn)\n",
    "val_loader = DataLoader(val_dataset, batch_size=64, collate_fn=collate_fn)\n",
    "test_loader = DataLoader(test_dataset, batch_size=64, shuffle=False, collate_fn=collate_fn)"
   ]
  },
  {
   "cell_type": "code",
   "execution_count": 18,
   "metadata": {
    "id": "4Kf8MI-AMfF-"
   },
   "outputs": [],
   "source": [
    "def subsample_dataframe(df, fraction=0.1):\n",
    "    return df.sample(frac=fraction, random_state=42)"
   ]
  },
  {
   "cell_type": "code",
   "execution_count": 19,
   "metadata": {
    "id": "ULqHm940Mg5M"
   },
   "outputs": [],
   "source": [
    "# Subsample the DataFrames\n",
    "train_df_small = subsample_dataframe(train_df)\n",
    "val_df_small = subsample_dataframe(val_df)\n",
    "\n",
    "# Create datasets with the smaller dataframes\n",
    "train_dataset = CaptionDataset(train_df_small, tokenizer, transform)\n",
    "val_dataset = CaptionDataset(val_df_small, tokenizer, transform)"
   ]
  },
  {
   "cell_type": "code",
   "execution_count": 20,
   "metadata": {
    "id": "Fyc98eFtMns9"
   },
   "outputs": [],
   "source": [
    "train_loader = DataLoader(train_dataset, batch_size=32, shuffle=True, collate_fn=collate_fn)\n",
    "val_loader = DataLoader(val_dataset, batch_size=32, collate_fn=collate_fn)"
   ]
  },
  {
   "cell_type": "markdown",
   "metadata": {
    "id": "msox-TY82-CX"
   },
   "source": [
    "### Creating Model Class"
   ]
  },
  {
   "cell_type": "code",
   "execution_count": 21,
   "metadata": {
    "id": "UhBb3nsHnj-A"
   },
   "outputs": [],
   "source": [
    "class ImageCaptioningModel_Custom(nn.Module):\n",
    "    def __init__(self, embed_dim, hidden_dim, vocab_size, num_layers, transformer_model=\"bert-base-uncased\", custom_tokenizer=None):\n",
    "\n",
    "        super(ImageCaptioningModel_Custom, self).__init__()\n",
    "\n",
    "        # Load pretrained resnet model\n",
    "        self.resnet = resnet50(pretrained=True)\n",
    "\n",
    "        # Freeze the resnet layers so that they are not trained\n",
    "        for param in self.resnet.parameters():\n",
    "            param.requires_grad = False\n",
    "\n",
    "        # Remove the classification layer and replace it with a linear layer\n",
    "        # This reduces the output dimension to match the embedding dimension\n",
    "        self.resnet.fc = nn.Linear(self.resnet.fc.in_features, embed_dim)\n",
    "\n",
    "        # Transformer for generating captions\n",
    "        config = BertConfig.from_pretrained(transformer_model, bos_token_id=101, eos_token_id=102,\n",
    "                                            hidden_dropout_prob=0.5, attention_probs_dropout_prob=0.5)\n",
    "        self.transformer = BertModel(config)\n",
    "\n",
    "        self.embedding_transform = nn.Linear(embed_dim, self.transformer.config.hidden_size)\n",
    "        self.batch_norm = nn.BatchNorm1d(self.transformer.config.hidden_size)\n",
    "\n",
    "        # Output layer\n",
    "        self.fc = nn.Linear(self.transformer.config.hidden_size, vocab_size)\n",
    "\n",
    "        self.custom_tokenizer = custom_tokenizer\n",
    "\n",
    "    def forward(self, images, input_ids=None, attention_mask=None):\n",
    "        image_features = self.resnet(images)\n",
    "        image_features = self.embedding_transform(image_features)\n",
    "        image_features = self.batch_norm(image_features)\n",
    "\n",
    "        if input_ids is None:\n",
    "            return self.beam_search_generate(image_features, beam_width=5, max_length=12)\n",
    "        else:\n",
    "            image_features = image_features.unsqueeze(1).repeat(1, input_ids.size(1), 1)\n",
    "\n",
    "\n",
    "            transformer_out = self.transformer(inputs_embeds=image_features, attention_mask=attention_mask)[0]\n",
    "            outputs = self.fc(transformer_out)\n",
    "            return outputs\n",
    "\n",
    "    def beam_search_generate(self, image_features, beam_width=3, max_length=12):\n",
    "        initial_input_ids = torch.full((image_features.size(0), 1), self.transformer.config.bos_token_id,\n",
    "                                      device=image_features.device, dtype=torch.long)\n",
    "        initial_scores = torch.zeros((image_features.size(0),), device=image_features.device)\n",
    "        candidates = [(initial_input_ids, initial_scores)]\n",
    "\n",
    "        for step in range(max_length - 1):\n",
    "            new_candidates = []\n",
    "            for token_ids, scores in candidates:\n",
    "                if token_ids[0, -1] == self.transformer.config.eos_token_id:\n",
    "                    new_candidates.append((token_ids, scores))  # Preserve sequences that have ended\n",
    "                    continue\n",
    "\n",
    "                attention_mask = torch.ones((token_ids.size(0), token_ids.size(1)), device=image_features.device)\n",
    "                image_features_expanded = image_features.unsqueeze(1).expand(-1, token_ids.size(1), -1)\n",
    "                transformer_out = self.transformer(inputs_embeds=image_features_expanded, attention_mask=attention_mask)[0]\n",
    "                next_word_logits = self.fc(transformer_out[:, -1, :])\n",
    "                next_word_probs = F.softmax(next_word_logits, dim=-1)\n",
    "                top_k_probs, top_k_words = torch.topk(next_word_probs, beam_width, dim=1)\n",
    "\n",
    "                for i in range(beam_width):\n",
    "                    next_token_ids = torch.cat([token_ids, top_k_words[:, i:i+1]], dim=1)\n",
    "                    log_prob = torch.log(top_k_probs[:, i])\n",
    "                    next_scores = scores + log_prob\n",
    "                    new_candidates.append((next_token_ids, next_scores))\n",
    "\n",
    "            candidates = sorted(new_candidates, key=lambda x: x[1].sum(), reverse=True)[:beam_width]\n",
    "\n",
    "        best_candidate = max(candidates, key=lambda x: x[1].sum())\n",
    "        best_tokens = best_candidate[0]  \n",
    "\n",
    "        # Decode each sequence in the batch individually\n",
    "        captions = []\n",
    "        for tokens in best_tokens:\n",
    "            try:\n",
    "                caption = self.custom_tokenizer.decode(tokens.tolist(), skip_special_tokens=True)\n",
    "                captions.append(caption)\n",
    "            except Exception as e:\n",
    "                captions.append(f\"Decoding failed: {str(e)}\")\n",
    "\n",
    "        return captions"
   ]
  },
  {
   "cell_type": "code",
   "execution_count": 22,
   "metadata": {
    "id": "fD9_7yK73kXv"
   },
   "outputs": [],
   "source": [
    "def softmax_with_temperature(logits, temperature=0.2):\n",
    "    return torch.softmax(logits / temperature, dim=-1)"
   ]
  },
  {
   "cell_type": "code",
   "execution_count": 29,
   "metadata": {
    "id": "Uz4vExc1wMK5"
   },
   "outputs": [],
   "source": [
    "import torch.nn.functional as F"
   ]
  },
  {
   "cell_type": "code",
   "execution_count": 23,
   "metadata": {
    "id": "UxSSF8dD3R39"
   },
   "outputs": [],
   "source": [
    "# Model Parameters\n",
    "embed_dim = 256\n",
    "hidden_dim = 512\n",
    "vocab_size = custom_tokenizer.get_vocab_size()\n",
    "num_layers = 2"
   ]
  },
  {
   "cell_type": "code",
   "execution_count": 30,
   "metadata": {
    "id": "h5FCLh57nvWq"
   },
   "outputs": [],
   "source": [
    "model = ImageCaptioningModel_Custom(embed_dim, hidden_dim, vocab_size, num_layers, \"bert-base-uncased\", custom_tokenizer)\n",
    "model = model.to(device)"
   ]
  },
  {
   "cell_type": "code",
   "execution_count": 27,
   "metadata": {
    "id": "dmPpRR6x2TxE"
   },
   "outputs": [],
   "source": [
    "def train_one_epoch(model, dataloader, optimizer, loss_fn, device, tokenizer):\n",
    "    model.train()\n",
    "    total_loss = 0\n",
    "    for i, batch in enumerate(dataloader):\n",
    "        images = batch['images'].to(device)\n",
    "        input_ids = batch['ids'].to(device)\n",
    "        attention_mask = batch['masks'].to(device)\n",
    "        targets = batch['targets'].to(device)\n",
    "\n",
    "        optimizer.zero_grad()\n",
    "        outputs = model(images, input_ids, attention_mask)\n",
    "        loss = loss_fn(outputs.view(-1, vocab_size), targets.view(-1))\n",
    "        loss.backward()\n",
    "        optimizer.step()\n",
    "        total_loss += loss.item()\n",
    "\n",
    "        if i % 10 == 0:\n",
    "            # Apply softmax to convert logits to probabilities\n",
    "            probs = torch.softmax(outputs, dim=-1)\n",
    "            print(\"Shape of probs:\", probs.shape)\n",
    "\n",
    "            # Reshape to 2D [batch_size * sequence_length, vocab_size] for multinomial\n",
    "            probs_reshaped = probs.view(-1, probs.shape[-1])\n",
    "            print(\"Reshaped probs:\", probs_reshaped.shape)\n",
    "\n",
    "            # Sample from the probability distribution for each position in each sequence\n",
    "            sampled_indices = torch.multinomial(probs_reshaped, num_samples=1).squeeze(-1)\n",
    "\n",
    "            # Reshape back to [batch_size, sequence_length]\n",
    "            predictions = sampled_indices.view(probs.shape[0], probs.shape[1])\n",
    "\n",
    "            # Sample from the probability distribution for each sequence in the batch\n",
    "            print(f\"Batch {i}, Train Loss: {loss.item():.4f}\")\n",
    "            print(\"Input Text:\", tokenizer.decode(input_ids[0].cpu().detach().numpy()))\n",
    "            print(\"Predicted Text:\", tokenizer.decode(predictions[0].cpu().detach().numpy()))\n",
    "            print(\"Actual Text:\", tokenizer.decode(targets[0].cpu().detach().numpy()))\n",
    "            print(\"Current Learning Rate:\", optimizer.param_groups[0]['lr'])\n",
    "\n",
    "    return total_loss / len(dataloader)\n",
    "\n",
    "\n",
    "def validate(model, dataloader, device, tokenizer):\n",
    "    model.eval()\n",
    "    references = []\n",
    "    hypotheses = []\n",
    "\n",
    "    with torch.no_grad():\n",
    "        for batch_index, batch in enumerate(dataloader):\n",
    "            images = batch['images'].to(device)\n",
    "            targets = batch['targets'].to(device)\n",
    "\n",
    "            predicted_captions = model(images)\n",
    "\n",
    "            # Convert targets to readable captions for comparison\n",
    "            batch_references = [tokenizer.decode(t.tolist(), skip_special_tokens=True) for t in targets]\n",
    "\n",
    "            # Ensure predicted captions are already in string format since they are decoded in beam_search_generate\n",
    "            batch_hypotheses = predicted_captions\n",
    "\n",
    "            for idx in range(len(batch_references)):\n",
    "                references.append([batch_references[idx].split()])\n",
    "                hypotheses.append(batch_hypotheses[idx].split())\n",
    "\n",
    "            if batch_index % 10 == 0:\n",
    "                for idx in range(min(3, len(batch_references))):  # Print up to 3 examples per batch\n",
    "                    print(f\"Batch {batch_index}, Image {idx + 1}:\")\n",
    "                    print(f\"  True Caption: {batch_references[idx]}\")\n",
    "                    print(f\"  Predicted Caption: {batch_hypotheses[idx]}\")\n",
    "                print(\"\\n---\\n\")\n",
    "\n",
    "    # Calculate BLEU score\n",
    "    from nltk.translate.bleu_score import corpus_bleu\n",
    "    bleu_score = corpus_bleu(references, hypotheses)\n",
    "    print(f\"BLEU Score: {bleu_score:.4f}\")\n",
    "    return bleu_score\n",
    "\n",
    "def train_and_validate(model, train_loader, val_loader, optimizer, loss_fn, device, tokenizer, epochs=5):\n",
    "    for epoch in range(epochs):\n",
    "        train_loss = train_one_epoch(model, train_loader, optimizer, loss_fn, device, tokenizer)\n",
    "        # Validation\n",
    "        bleu_score = validate(model, val_loader, device, custom_tokenizer)\n",
    "\n",
    "        # Scheduler Step (for adjusting learning rate based on validation loss)\n",
    "        #scheduler.step(val_loss)\n",
    "\n",
    "        # Print Epoch Summary\n",
    "        print(f\"Epoch {epoch + 1}: Train Loss = {train_loss:.4f}, BLEU Score = {bleu_score:.4f}\")"
   ]
  },
  {
   "cell_type": "code",
   "execution_count": 31,
   "metadata": {
    "id": "7bF8UUdevmhw"
   },
   "outputs": [],
   "source": [
    "# Optimizer\n",
    "optimizer = torch.optim.AdamW(model.parameters(), lr=1e-5)\n",
    "\n",
    "scheduler = ReduceLROnPlateau(optimizer, 'min', patience=5, factor=0.3, verbose=True)\n",
    "\n",
    "# Loss Function\n",
    "loss_fn = nn.CrossEntropyLoss()"
   ]
  },
  {
   "cell_type": "code",
   "execution_count": 32,
   "metadata": {
    "colab": {
     "base_uri": "https://localhost:8080/"
    },
    "id": "qhx6RZ2Z5aAp",
    "outputId": "d13bdce1-1362-44ac-ac09-60913b3fcac3"
   },
   "outputs": [
    {
     "name": "stdout",
     "output_type": "stream",
     "text": [
      "Shape of probs: torch.Size([32, 32, 11051])\n",
      "Reshaped probs: torch.Size([1024, 11051])\n",
      "Batch 0, Train Loss: 9.4448\n",
      "Input Text: The people look to be having fun with their open facial expressions .\n",
      "Predicted Text: blossom Feelings steed wagon lazy colourful childhood newly combination spins UFO unlike toppless astounding plumb murkey shells justice blotches south blossoming picture convinced breathing merry miniature outreaching christianity chicken arts surf fetus\n",
      "Actual Text: people look to be having fun with their open facial expressions .\n",
      "Current Learning Rate: 1e-05\n",
      "Shape of probs: torch.Size([32, 32, 11051])\n",
      "Reshaped probs: torch.Size([1024, 11051])\n",
      "Batch 10, Train Loss: 6.7123\n",
      "Input Text: This painting is very relaxing to look at because you can see the love that this mother plays for her child .\n",
      "Predicted Text: blankets representations Roosevelt delicately pomp distort Washed japanese sadder battle absinthe suicide clarinet richly flavors weirid fangled folk DARK closing innocence theur tremendous harlequin llamas wasting gaunt approach pauses Bear elbow planting\n",
      "Actual Text: painting is very relaxing to look at because you can see the love that this mother plays for her child .\n",
      "Current Learning Rate: 1e-05\n",
      "Shape of probs: torch.Size([32, 32, 11051])\n",
      "Reshaped probs: torch.Size([1024, 11051])\n",
      "Batch 20, Train Loss: 5.1094\n",
      "Input Text: It makes me think of horizontal in , over the window of an abandoned house\n",
      "Predicted Text: brain sidewalk ideal canceled onion verdant poles impressive Non marriage\n",
      "Actual Text: makes me think of horizontal in , over the window of an abandoned house\n",
      "Current Learning Rate: 1e-05\n",
      "Shape of probs: torch.Size([32, 32, 11051])\n",
      "Reshaped probs: torch.Size([1024, 11051])\n",
      "Batch 30, Train Loss: 4.9848\n",
      "Input Text: It makes me feel content because of the color pattern .\n",
      "Predicted Text: priority shy gore pastime madonna hit\n",
      "Actual Text: makes me feel content because of the color pattern .\n",
      "Current Learning Rate: 1e-05\n",
      "Shape of probs: torch.Size([32, 32, 11051])\n",
      "Reshaped probs: torch.Size([1024, 11051])\n",
      "... (output truncated)"
     ]
    },
    {
     "name": "stderr",
     "output_type": "stream",
     "text": [
      "/usr/local/lib/python3.10/dist-packages/nltk/translate/bleu_score.py:552: UserWarning: \n",
      "The hypothesis contains 0 counts of 2-gram overlaps.\n",
      "Therefore the BLEU score evaluates to 0, independently of\n",
      "how many N-gram overlaps of lower order it contains.\n",
      "Consider using lower n-gram order or use SmoothingFunction()\n",
      "  warnings.warn(_msg)\n",
      "/usr/local/lib/python3.10/dist-packages/nltk/translate/bleu_score.py:552: UserWarning: \n",
      "The hypothesis contains 0 counts of 3-gram overlaps.\n",
      "Therefore the BLEU score evaluates to 0, independently of\n",
      "how many N-gram overlaps of lower order it contains.\n",
      "Consider using lower n-gram order or use SmoothingFunction()\n",
      "  warnings.warn(_msg)\n",
      "/usr/local/lib/python3.10/dist-packages/nltk/translate/bleu_score.py:552: UserWarning: \n",
      "The hypothesis contains 0 counts of 4-gram overlaps.\n",
      "Therefore the BLEU score evaluates to 0, independently of\n",
      "how many N-gram overlaps of lower order it contains.\n",
      "Consider using lower n-gram order or use SmoothingFunction()\n",
      "  warnings.warn(_msg)\n"
     ]
    },
    {
     "name": "stdout",
     "output_type": "stream",
     "text": [
      "BLEU Score: 0.0000\n",
      "Epoch 1: Train Loss = 4.6031, BLEU Score = 0.0000\n",
      "Shape of probs: torch.Size([32, 32, 11051])\n",
      "Reshaped probs: torch.Size([1024, 11051])\n",
      "Batch 0, Train Loss: 3.9965\n",
      "Input Text: Though formally posing , the man ' s thoughts seem to be far away , on a matter that is tormenting him .\n",
      "Predicted Text: dance carriage trying watering a starved 1930 . detail sprawling turtle actign postcard here\n",
      "Actual Text: formally posing , the man ' s thoughts seem to be far away , on a matter that is tormenting him .\n",
      "Current Learning Rate: 1e-05\n",
      "Shape of probs: torch.Size([32, 32, 11051])\n",
      "Reshaped probs: torch.Size([1024, 11051])\n",
      "Batch 10, Train Loss: 4.1561\n",
      "Input Text: So pretty . So many trees . I love the colors .\n",
      "Predicted Text: or -- defenseless pale pilgrims destroying Vegas solo ornate is yet think italian sympathize indicated\n",
      "Actual Text: pretty . So many trees . I love the colors .\n",
      "Current Learning Rate: 1e-05\n",
      "Shape of probs: torch.Size([32, 32, 11051])\n",
      "Reshaped probs: torch.Size([1024, 11051])\n",
      "Batch 20, Train Loss: 3.8224\n",
      "Input Text: looking young girl in a off the shoulder pink dress . Her face is plumb and questioning .\n",
      "Predicted Text: orangish . granting Having angelic the - dolls left evidence southwest scavenger\n",
      "Actual Text: looking young girl in a off the shoulder pink dress . Her face is plumb and questioning .\n",
      "Current Learning Rate: 1e-05\n",
      "Shape of probs: torch.Size([32, 32, 11051])\n",
      "Reshaped probs: torch.Size([1024, 11051])\n",
      "Batch 30, Train Loss: 3.9341\n",
      "Input Text: The clear , blue mountains and sky reminds me of Christmas Eve\n",
      "Predicted Text: a ' cats explore lined dimensions Hounds is therefore , displayed baby puzzle crumbling\n",
      "Actual Text: clear , blue mountains and sky reminds me of Christmas Eve\n",
      "Current Learning Rate: 1e-05\n",
      "... (output truncated)"
     ]
    }
   ],
   "source": [
    "train_and_validate(model, train_loader, val_loader, optimizer, loss_fn, device, custom_tokenizer)"
   ]
  },
  {
   "cell_type": "code",
   "execution_count": 33,
   "metadata": {
    "id": "PFl_Pdvbvr5A"
   },
   "outputs": [],
   "source": [
    "torch.save(model.state_dict(), 'custom_beam_model.pth')"
   ]
  },
  {
   "cell_type": "markdown",
   "metadata": {},
   "source": [
    "This model does seem to be doing better than the others, probably because the vocabulary is limited to the dataset. So, when unable to train extensively, this is a good option. Further evaluation is required, which will be done in Phase 4."
   ]
  }
 ],
 "metadata": {
  "accelerator": "GPU",
  "colab": {
   "collapsed_sections": [
    "DeuOy2nMHNcq",
    "jwxCRZyBJkfv",
    "6InheyNnxesB",
    "iLJulh-0KBeX",
    "APZ2yi3L-z98",
    "A2vGvLg3-23d",
    "NZiVHY1c6yN6",
    "DE2asBksWPka",
    "ZcVC7PQf5krD",
    "-Iuy52Iq-Vth",
    "rtNsonix_X42",
    "RJvfIDPD_6BF",
    "XOM6CL_aAFc1",
    "uIxx8Z0xjxaE",
    "na7cj4J8BuoB"
   ],
   "gpuType": "T4",
   "provenance": []
  },
  "kernelspec": {
   "display_name": "Python 3",
   "name": "python3"
  },
  "language_info": {
   "name": "python"
  }
 },
 "nbformat": 4,
 "nbformat_minor": 0
}
