{
 "cells": [
  {
   "cell_type": "code",
   "execution_count": 2,
   "id": "68239f96-abca-4077-a92a-6690b94785d4",
   "metadata": {
    "tags": []
   },
   "outputs": [],
   "source": [
    "import pandas as pd\n",
    "import spotipy\n",
    "from spotipy.oauth2 import SpotifyClientCredentials, SpotifyOAuth\n",
    "import random"
   ]
  },
  {
   "cell_type": "code",
   "execution_count": 3,
   "id": "af145a0a-52ef-4819-b57e-20ff84f04ae3",
   "metadata": {
    "tags": []
   },
   "outputs": [],
   "source": [
    "# Initialize Spotify client\n",
    "client_credentials_manager = SpotifyClientCredentials(client_id='CLIENT_ID', \n",
    "                                                      client_secret='CLIENT_SECRET')\n",
    "sp = spotipy.Spotify(client_credentials_manager=client_credentials_manager)\n",
    "\n",
    "def get_spotify_track_id(song_name, artist_name):\n",
    "    # Search for tracks\n",
    "    results = sp.search(q=f\"track:{song_name} artist:{artist_name}\", type='track', limit=1)\n",
    "    \n",
    "    # Extract track ID if available\n",
    "    if results['tracks']['items']:\n",
    "        track_id = results['tracks']['items'][0]['id']\n",
    "        return track_id\n",
    "    else:\n",
    "        return None"
   ]
  },
  {
   "cell_type": "code",
   "execution_count": 4,
   "id": "a0fb168b-a7d8-4338-8172-d27f7da7db05",
   "metadata": {
    "tags": []
   },
   "outputs": [],
   "source": [
    "# read in song_moods.csv + process the data\n",
    "# spotify id?\n",
    "# {mood: songs}\n",
    "def read_songs(file_path):\n",
    "    df = pd.read_csv(file_path)\n",
    "    \n",
    "    mood_names = df.columns.values.tolist()[2:]\n",
    "    \n",
    "    mood_songs = {}\n",
    "    for i, row in df.iterrows():\n",
    "        title, artist, moods = row[0], row[1], row[2:]\n",
    "        spotify_uri = get_spotify_track_id(title, artist)\n",
    "        \n",
    "        for mood, val in enumerate(moods):\n",
    "            if val == 1:\n",
    "                mood_name = mood_names[mood]\n",
    "                mood_songs.setdefault(mood_name, []).append({'spotify_uri': spotify_uri, 'title': title, 'artist': artist})\n",
    "                \n",
    "    return mood_songs"
   ]
  },
  {
   "cell_type": "code",
   "execution_count": 5,
   "id": "6e0d9e5a-1d15-4c4f-bd8c-8e43196f96d4",
   "metadata": {
    "tags": []
   },
   "outputs": [
    {
     "name": "stderr",
     "output_type": "stream",
     "text": [
      "/var/tmp/ipykernel_13139/1874800133.py:11: FutureWarning: Series.__getitem__ treating keys as positions is deprecated. In a future version, integer keys will always be treated as labels (consistent with DataFrame behavior). To access a value by position, use `ser.iloc[pos]`\n",
      "  title, artist, moods = row[0], row[1], row[2:]\n"
     ]
    }
   ],
   "source": [
    "moods = read_songs('song_moods.csv')"
   ]
  },
  {
   "cell_type": "code",
   "execution_count": 6,
   "id": "663dc344-b415-4a08-94bc-ba905a4e65e4",
   "metadata": {
    "tags": []
   },
   "outputs": [
    {
     "data": {
      "text/plain": [
       "172"
      ]
     },
     "execution_count": 6,
     "metadata": {},
     "output_type": "execute_result"
    }
   ],
   "source": [
    "len(moods)"
   ]
  },
  {
   "cell_type": "code",
   "execution_count": 7,
   "id": "cc63e910-a6dc-4495-bda8-0db0eb5e2213",
   "metadata": {
    "tags": []
   },
   "outputs": [],
   "source": [
    "# given moods and moods dict\n",
    "# spotify id?\n",
    "# return songs based on those moods\n",
    "def extract_random_songs(mood_dict, moods, num_songs_per_mood=3):\n",
    "    random_songs = set()\n",
    "\n",
    "    for mood in moods:\n",
    "        if mood in mood_dict:\n",
    "            songs = mood_dict[mood]\n",
    "\n",
    "            sampled_songs = random.sample(songs, min(num_songs_per_mood, len(songs)))\n",
    "            random_songs.update('spotify:track:' + song['spotify_uri'] for song in sampled_songs if song['spotify_uri'] is not None)\n",
    "        else:\n",
    "            print(f\"No songs found for mood: {mood}\")\n",
    "\n",
    "    return list(random_songs)"
   ]
  },
  {
   "cell_type": "code",
   "execution_count": 14,
   "id": "f8fc0314-507e-4294-b974-2699483d2d37",
   "metadata": {
    "tags": []
   },
   "outputs": [],
   "source": [
    "# given list of songs\n",
    "# create spotify playlist\n",
    "# get spotify to recommend songs based on those songs\n",
    "\n",
    "def create_spotify_playlist(playlist_name, track_uris):\n",
    "    sp_oauth = SpotifyOAuth(client_id='CLIENT_ID',\n",
    "                       client_secret='CLIENT_SECRET',\n",
    "                       redirect_uri='http://localhost:8888/callback',\n",
    "                       scope='playlist-modify-private')\n",
    "    \n",
    "    auth_url = sp_oauth.get_authorize_url()\n",
    "    print(\"visit this URL to authorize your account:\", auth_url)\n",
    "    \n",
    "    auth_response = input(\"paste the URL you were redirected to here: \")\n",
    "    \n",
    "    code = sp_oauth.parse_response_code(auth_response)\n",
    "    token_info = sp_oauth.get_access_token(code)\n",
    "\n",
    "    # access token to create a playlist\n",
    "    sp = spotipy.Spotify(auth=token_info['access_token'])\n",
    "    \n",
    "    random_track_uri = random.sample(track_uris, min(5, len(track_uris)))\n",
    "\n",
    "    playlist = sp.user_playlist_create(sp.me()['id'], playlist_name, public=False)\n",
    "    recommendations = sp.recommendations(seed_tracks=random_track_uri, limit=30)\n",
    "    recommended_track_uris = [track['uri'] for track in recommendations['tracks']]\n",
    "    \n",
    "    sp.playlist_add_items(playlist['id'], track_uris+recommended_track_uris)\n",
    "    \n",
    "    return playlist['id']"
   ]
  },
  {
   "cell_type": "code",
   "execution_count": 9,
   "id": "d2655e37-84dd-4985-8581-b474eaa421da",
   "metadata": {
    "tags": []
   },
   "outputs": [],
   "source": [
    "songs = extract_random_songs(moods, ['angry', 'angst-ridden', 'brooding', 'confident'])"
   ]
  },
  {
   "cell_type": "code",
   "execution_count": 10,
   "id": "6a9be834-3cd1-49df-b360-69da20bdc0f6",
   "metadata": {
    "tags": []
   },
   "outputs": [
    {
     "data": {
      "text/plain": [
       "['spotify:track:5OrUmqP0zk67Nvim1ZXUf1',\n",
       " 'spotify:track:7AXcgpdL2oJWnI1BCLLeWI',\n",
       " 'spotify:track:5XuU9htN358NTMCcqRvfDV',\n",
       " 'spotify:track:3aFRj2jpmzytmMaz9Reade',\n",
       " 'spotify:track:2nAU8DfyMHGby0DA01vv6L',\n",
       " 'spotify:track:6GnQ9TEKUjqGnLqmTTpNS2',\n",
       " 'spotify:track:3NWDb3bbMBTArBblzG4jMX',\n",
       " 'spotify:track:6UmiroOo97nxwJTYjWBmKE',\n",
       " 'spotify:track:5eLwwPNN9g5yLrIdyj2ewP',\n",
       " 'spotify:track:1klrDyGRsCBPofZdqdaZp6',\n",
       " 'spotify:track:5Q7m1Km199HHMB926xxbrs']"
      ]
     },
     "execution_count": 10,
     "metadata": {},
     "output_type": "execute_result"
    }
   ],
   "source": [
    "songs"
   ]
  },
  {
   "cell_type": "code",
   "execution_count": 15,
   "id": "38780df4-b653-4ef0-a964-655073fdc580",
   "metadata": {
    "tags": []
   },
   "outputs": [
    {
     "name": "stdout",
     "output_type": "stream",
     "text": [
      "visit this URL to authorize your account: https://accounts.spotify.com/authorize?client_id=4124d1d1c0b547c889b174b29cc43af7&response_type=code&redirect_uri=http%3A%2F%2Flocalhost%3A8888%2Fcallback&scope=playlist-modify-private\n"
     ]
    },
    {
     "name": "stdin",
     "output_type": "stream",
     "text": [
      "paste the URL you were redirected to here:  http://localhost:8888/callback?code=AQCloyBDE-NiP2w3FFhnHECr6fhKeca0-iN-4CorwTkAXqUVfNCEqFLlr5fP0xZU_Z3AypdlTOUmuwYYNvrXzF7AvIgQxjZYJ5a-43zn5FSKYxdlYt4j24wNwSKALQinp5jyYh13if5K-nAlQMIKAPk66qvNbXa1vCVaWY1-WjtD8Twdw5QZ8OddYd4mvDsxCM4Sy0-Z48v1l5w\n"
     ]
    },
    {
     "name": "stderr",
     "output_type": "stream",
     "text": [
      "/var/tmp/ipykernel_13139/3594710133.py:17: DeprecationWarning: You're using 'as_dict = True'.get_access_token will return the token string directly in future versions. Please adjust your code accordingly, or use get_cached_token instead.\n",
      "  token_info = sp_oauth.get_access_token(code)\n"
     ]
    },
    {
     "data": {
      "text/plain": [
       "'3mHBJH6AVNaCKMU41o0y7d'"
      ]
     },
     "execution_count": 15,
     "metadata": {},
     "output_type": "execute_result"
    }
   ],
   "source": [
    "create_spotify_playlist(\"testing!!! acv\", songs)"
   ]
  },
  {
   "cell_type": "code",
   "execution_count": null,
   "id": "6a5e6369-4e9e-4335-942c-5b95949ab9b9",
   "metadata": {},
   "outputs": [],
   "source": [
    "# stretch: personalize based on user listening behavior"
   ]
  },
  {
   "cell_type": "code",
   "execution_count": null,
   "id": "5a59cca7-da12-466e-beac-8201e4a8206c",
   "metadata": {},
   "outputs": [],
   "source": []
  }
 ],
 "metadata": {
  "environment": {
   "kernel": "conda-root-py",
   "name": "workbench-notebooks.m115",
   "type": "gcloud",
   "uri": "gcr.io/deeplearning-platform-release/workbench-notebooks:m115"
  },
  "kernelspec": {
   "display_name": "Python 3 (ipykernel) (Local)",
   "language": "python",
   "name": "conda-root-py"
  },
  "language_info": {
   "codemirror_mode": {
    "name": "ipython",
    "version": 3
   },
   "file_extension": ".py",
   "mimetype": "text/x-python",
   "name": "python",
   "nbconvert_exporter": "python",
   "pygments_lexer": "ipython3",
   "version": "3.10.13"
  }
 },
 "nbformat": 4,
 "nbformat_minor": 5
}
