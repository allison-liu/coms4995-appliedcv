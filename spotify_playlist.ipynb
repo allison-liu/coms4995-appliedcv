{
 "cells": [
  {
   "cell_type": "code",
   "execution_count": 2,
   "id": "68239f96-abca-4077-a92a-6690b94785d4",
   "metadata": {
    "tags": []
   },
   "outputs": [],
   "source": [
    "import pandas as pd\n",
    "import spotipy\n",
    "from spotipy.oauth2 import SpotifyClientCredentials, SpotifyOAuth\n",
    "import random"
   ]
  },
  {
   "cell_type": "code",
   "execution_count": 3,
   "id": "af145a0a-52ef-4819-b57e-20ff84f04ae3",
   "metadata": {
    "tags": []
   },
   "outputs": [],
   "source": [
    "# Initialize Spotify client\n",
    "client_credentials_manager = SpotifyClientCredentials(client_id='4124d1d1c0b547c889b174b29cc43af7', client_secret='74bb1bd9b862440ea797bd1a671cd9ac')\n",
    "sp = spotipy.Spotify(client_credentials_manager=client_credentials_manager)\n",
    "\n",
    "def get_spotify_track_id(song_name, artist_name):\n",
    "    # Search for tracks\n",
    "    results = sp.search(q=f\"track:{song_name} artist:{artist_name}\", type='track', limit=1)\n",
    "    \n",
    "    # Extract track ID if available\n",
    "    if results['tracks']['items']:\n",
    "        track_id = results['tracks']['items'][0]['id']\n",
    "        return track_id\n",
    "    else:\n",
    "        return None"
   ]
  },
  {
   "cell_type": "code",
   "execution_count": 4,
   "id": "a0fb168b-a7d8-4338-8172-d27f7da7db05",
   "metadata": {
    "tags": []
   },
   "outputs": [],
   "source": [
    "# read in song_moods.csv + process the data\n",
    "# spotify id?\n",
    "# {mood: songs}\n",
    "def read_songs(file_path):\n",
    "    df = pd.read_csv(file_path)\n",
    "    \n",
    "    mood_names = df.columns.values.tolist()[2:]\n",
    "    \n",
    "    mood_songs = {}\n",
    "    for i, row in df.iterrows():\n",
    "        title, artist, moods = row[0], row[1], row[2:]\n",
    "        spotify_uri = get_spotify_track_id(title, artist)\n",
    "        \n",
    "        for mood, val in enumerate(moods):\n",
    "            if val == 1:\n",
    "                mood_name = mood_names[mood]\n",
    "                mood_songs.setdefault(mood_name, []).append({'spotify_uri': spotify_uri, 'title': title, 'artist': artist})\n",
    "                \n",
    "    return mood_songs"
   ]
  },
  {
   "cell_type": "code",
   "execution_count": 5,
   "id": "6e0d9e5a-1d15-4c4f-bd8c-8e43196f96d4",
   "metadata": {
    "tags": []
   },
   "outputs": [
    {
     "name": "stderr",
     "output_type": "stream",
     "text": [
      "/var/tmp/ipykernel_25285/1874800133.py:11: FutureWarning: Series.__getitem__ treating keys as positions is deprecated. In a future version, integer keys will always be treated as labels (consistent with DataFrame behavior). To access a value by position, use `ser.iloc[pos]`\n",
      "  title, artist, moods = row[0], row[1], row[2:]\n"
     ]
    }
   ],
   "source": [
    "moods = read_songs('song_moods.csv')"
   ]
  },
  {
   "cell_type": "code",
   "execution_count": 6,
   "id": "663dc344-b415-4a08-94bc-ba905a4e65e4",
   "metadata": {
    "tags": []
   },
   "outputs": [
    {
     "data": {
      "text/plain": [
       "172"
      ]
     },
     "execution_count": 6,
     "metadata": {},
     "output_type": "execute_result"
    }
   ],
   "source": [
    "len(moods)"
   ]
  },
  {
   "cell_type": "code",
   "execution_count": 7,
   "id": "cc63e910-a6dc-4495-bda8-0db0eb5e2213",
   "metadata": {
    "tags": []
   },
   "outputs": [],
   "source": [
    "# given moods and moods dict\n",
    "# spotify id?\n",
    "# return songs based on those moods\n",
    "def extract_random_songs(mood_dict, moods, num_songs_per_mood=3):\n",
    "    random_songs = set()\n",
    "\n",
    "    for mood in moods:\n",
    "        if mood in mood_dict:\n",
    "            songs = mood_dict[mood]\n",
    "            if len(songs) > num_songs_per_mood:\n",
    "                # random_songs.update(random.sample(songs, min(num_songs_per_mood, len(songs))))\n",
    "                sampled_songs = random.sample(songs, min(num_songs_per_mood, len(songs)))\n",
    "                random_songs.update(song['spotify_uri'] for song in sampled_songs if song['spotify_uri'] is not None)\n",
    "            else:\n",
    "                random_songs.update(song['spotify_uri'] for song in songs if song['spotify_uri'] is not None)\n",
    "        else:\n",
    "            print(f\"No songs found for mood: {mood}\")\n",
    "\n",
    "    return random_songs"
   ]
  },
  {
   "cell_type": "code",
   "execution_count": 8,
   "id": "f8fc0314-507e-4294-b974-2699483d2d37",
   "metadata": {
    "tags": []
   },
   "outputs": [],
   "source": [
    "# given list of songs\n",
    "# create spotify playlist\n",
    "# get spotify to recommend songs based on those songs\n",
    "sp = spotipy.Spotify(auth_manager=SpotifyOAuth(client_id='4124d1d1c0b547c889b174b29cc43af7',\n",
    "                                               client_secret='74bb1bd9b862440ea797bd1a671cd9ac',\n",
    "                                               redirect_uri='http://localhost:8888/callback',\n",
    "                                               scope='playlist-modify-private'))\n",
    "\n",
    "def create_spotify_playlist(playlist_name, track_uris):\n",
    "    # random_track_uri = random.sample(track_uris, min(5, len(track_uris)))\n",
    "    playlist = sp.user_playlist_create(sp.me()['id'], playlist_name, public=False)\n",
    "    # recommendations = sp.recommendations(seed_tracks=random_track_uri, limit=30)\n",
    "    # recommended_track_uris = [track['uri'] for track in recommendations['tracks']]\n",
    "    sp.playlist_add_items(playlist['id'], track_uris)\n",
    "    \n",
    "    return playlist['id']"
   ]
  },
  {
   "cell_type": "code",
   "execution_count": 9,
   "id": "d2655e37-84dd-4985-8581-b474eaa421da",
   "metadata": {
    "tags": []
   },
   "outputs": [],
   "source": [
    "songs = extract_random_songs(moods, ['angry', 'angst-ridden', 'brooding', 'confident'])"
   ]
  },
  {
   "cell_type": "code",
   "execution_count": 10,
   "id": "6a9be834-3cd1-49df-b360-69da20bdc0f6",
   "metadata": {
    "tags": []
   },
   "outputs": [
    {
     "data": {
      "text/plain": [
       "{'03yH8hIyiNOMVnR9HcQeZx',\n",
       " '0ASYYaJ8RMrZ7N44KMEJr8',\n",
       " '1UZbE63mMVUe5ql4fk1UjT',\n",
       " '1klrDyGRsCBPofZdqdaZp6',\n",
       " '22bPsP2jCgbLUvh82U0Z3M',\n",
       " '2QcgSxSdGmiCk4G7FOC5N9',\n",
       " '3TEAWiw3w0IAsoj4p3tJ7x',\n",
       " '6GnQ9TEKUjqGnLqmTTpNS2',\n",
       " '6UmiroOo97nxwJTYjWBmKE'}"
      ]
     },
     "execution_count": 10,
     "metadata": {},
     "output_type": "execute_result"
    }
   ],
   "source": [
    "songs"
   ]
  },
  {
   "cell_type": "code",
   "execution_count": 11,
   "id": "38780df4-b653-4ef0-a964-655073fdc580",
   "metadata": {
    "tags": []
   },
   "outputs": [
    {
     "ename": "KeyboardInterrupt",
     "evalue": "",
     "output_type": "error",
     "traceback": [
      "\u001b[0;31m---------------------------------------------------------------------------\u001b[0m",
      "\u001b[0;31mKeyboardInterrupt\u001b[0m                         Traceback (most recent call last)",
      "Cell \u001b[0;32mIn[11], line 1\u001b[0m\n\u001b[0;32m----> 1\u001b[0m \u001b[43mcreate_spotify_playlist\u001b[49m\u001b[43m(\u001b[49m\u001b[38;5;124;43m\"\u001b[39;49m\u001b[38;5;124;43mtesting!!! acv\u001b[39;49m\u001b[38;5;124;43m\"\u001b[39;49m\u001b[43m,\u001b[49m\u001b[43m \u001b[49m\u001b[43msongs\u001b[49m\u001b[43m)\u001b[49m\n",
      "Cell \u001b[0;32mIn[8], line 11\u001b[0m, in \u001b[0;36mcreate_spotify_playlist\u001b[0;34m(playlist_name, track_uris)\u001b[0m\n\u001b[1;32m      9\u001b[0m \u001b[38;5;28;01mdef\u001b[39;00m \u001b[38;5;21mcreate_spotify_playlist\u001b[39m(playlist_name, track_uris):\n\u001b[1;32m     10\u001b[0m     \u001b[38;5;66;03m# random_track_uri = random.sample(track_uris, min(5, len(track_uris)))\u001b[39;00m\n\u001b[0;32m---> 11\u001b[0m     playlist \u001b[38;5;241m=\u001b[39m sp\u001b[38;5;241m.\u001b[39muser_playlist_create(\u001b[43msp\u001b[49m\u001b[38;5;241;43m.\u001b[39;49m\u001b[43mme\u001b[49m\u001b[43m(\u001b[49m\u001b[43m)\u001b[49m[\u001b[38;5;124m'\u001b[39m\u001b[38;5;124mid\u001b[39m\u001b[38;5;124m'\u001b[39m], playlist_name, public\u001b[38;5;241m=\u001b[39m\u001b[38;5;28;01mFalse\u001b[39;00m)\n\u001b[1;32m     12\u001b[0m     \u001b[38;5;66;03m# recommendations = sp.recommendations(seed_tracks=random_track_uri, limit=30)\u001b[39;00m\n\u001b[1;32m     13\u001b[0m     \u001b[38;5;66;03m# recommended_track_uris = [track['uri'] for track in recommendations['tracks']]\u001b[39;00m\n\u001b[1;32m     14\u001b[0m     sp\u001b[38;5;241m.\u001b[39mplaylist_add_items(playlist[\u001b[38;5;124m'\u001b[39m\u001b[38;5;124mid\u001b[39m\u001b[38;5;124m'\u001b[39m], track_uris)\n",
      "File \u001b[0;32m/opt/conda/lib/python3.10/site-packages/spotipy/client.py:1221\u001b[0m, in \u001b[0;36mSpotify.me\u001b[0;34m(self)\u001b[0m\n\u001b[1;32m   1217\u001b[0m \u001b[38;5;28;01mdef\u001b[39;00m \u001b[38;5;21mme\u001b[39m(\u001b[38;5;28mself\u001b[39m):\n\u001b[1;32m   1218\u001b[0m \u001b[38;5;250m    \u001b[39m\u001b[38;5;124;03m\"\"\" Get detailed profile information about the current user.\u001b[39;00m\n\u001b[1;32m   1219\u001b[0m \u001b[38;5;124;03m        An alias for the 'current_user' method.\u001b[39;00m\n\u001b[1;32m   1220\u001b[0m \u001b[38;5;124;03m    \"\"\"\u001b[39;00m\n\u001b[0;32m-> 1221\u001b[0m     \u001b[38;5;28;01mreturn\u001b[39;00m \u001b[38;5;28;43mself\u001b[39;49m\u001b[38;5;241;43m.\u001b[39;49m\u001b[43m_get\u001b[49m\u001b[43m(\u001b[49m\u001b[38;5;124;43m\"\u001b[39;49m\u001b[38;5;124;43mme/\u001b[39;49m\u001b[38;5;124;43m\"\u001b[39;49m\u001b[43m)\u001b[49m\n",
      "File \u001b[0;32m/opt/conda/lib/python3.10/site-packages/spotipy/client.py:323\u001b[0m, in \u001b[0;36mSpotify._get\u001b[0;34m(self, url, args, payload, **kwargs)\u001b[0m\n\u001b[1;32m    320\u001b[0m \u001b[38;5;28;01mif\u001b[39;00m args:\n\u001b[1;32m    321\u001b[0m     kwargs\u001b[38;5;241m.\u001b[39mupdate(args)\n\u001b[0;32m--> 323\u001b[0m \u001b[38;5;28;01mreturn\u001b[39;00m \u001b[38;5;28;43mself\u001b[39;49m\u001b[38;5;241;43m.\u001b[39;49m\u001b[43m_internal_call\u001b[49m\u001b[43m(\u001b[49m\u001b[38;5;124;43m\"\u001b[39;49m\u001b[38;5;124;43mGET\u001b[39;49m\u001b[38;5;124;43m\"\u001b[39;49m\u001b[43m,\u001b[49m\u001b[43m \u001b[49m\u001b[43murl\u001b[49m\u001b[43m,\u001b[49m\u001b[43m \u001b[49m\u001b[43mpayload\u001b[49m\u001b[43m,\u001b[49m\u001b[43m \u001b[49m\u001b[43mkwargs\u001b[49m\u001b[43m)\u001b[49m\n",
      "File \u001b[0;32m/opt/conda/lib/python3.10/site-packages/spotipy/client.py:247\u001b[0m, in \u001b[0;36mSpotify._internal_call\u001b[0;34m(self, method, url, payload, params)\u001b[0m\n\u001b[1;32m    245\u001b[0m \u001b[38;5;28;01mif\u001b[39;00m \u001b[38;5;129;01mnot\u001b[39;00m url\u001b[38;5;241m.\u001b[39mstartswith(\u001b[38;5;124m\"\u001b[39m\u001b[38;5;124mhttp\u001b[39m\u001b[38;5;124m\"\u001b[39m):\n\u001b[1;32m    246\u001b[0m     url \u001b[38;5;241m=\u001b[39m \u001b[38;5;28mself\u001b[39m\u001b[38;5;241m.\u001b[39mprefix \u001b[38;5;241m+\u001b[39m url\n\u001b[0;32m--> 247\u001b[0m headers \u001b[38;5;241m=\u001b[39m \u001b[38;5;28;43mself\u001b[39;49m\u001b[38;5;241;43m.\u001b[39;49m\u001b[43m_auth_headers\u001b[49m\u001b[43m(\u001b[49m\u001b[43m)\u001b[49m\n\u001b[1;32m    249\u001b[0m \u001b[38;5;28;01mif\u001b[39;00m \u001b[38;5;124m\"\u001b[39m\u001b[38;5;124mcontent_type\u001b[39m\u001b[38;5;124m\"\u001b[39m \u001b[38;5;129;01min\u001b[39;00m args[\u001b[38;5;124m\"\u001b[39m\u001b[38;5;124mparams\u001b[39m\u001b[38;5;124m\"\u001b[39m]:\n\u001b[1;32m    250\u001b[0m     headers[\u001b[38;5;124m\"\u001b[39m\u001b[38;5;124mContent-Type\u001b[39m\u001b[38;5;124m\"\u001b[39m] \u001b[38;5;241m=\u001b[39m args[\u001b[38;5;124m\"\u001b[39m\u001b[38;5;124mparams\u001b[39m\u001b[38;5;124m\"\u001b[39m][\u001b[38;5;124m\"\u001b[39m\u001b[38;5;124mcontent_type\u001b[39m\u001b[38;5;124m\"\u001b[39m]\n",
      "File \u001b[0;32m/opt/conda/lib/python3.10/site-packages/spotipy/client.py:238\u001b[0m, in \u001b[0;36mSpotify._auth_headers\u001b[0;34m(self)\u001b[0m\n\u001b[1;32m    236\u001b[0m     \u001b[38;5;28;01mreturn\u001b[39;00m {}\n\u001b[1;32m    237\u001b[0m \u001b[38;5;28;01mtry\u001b[39;00m:\n\u001b[0;32m--> 238\u001b[0m     token \u001b[38;5;241m=\u001b[39m \u001b[38;5;28;43mself\u001b[39;49m\u001b[38;5;241;43m.\u001b[39;49m\u001b[43mauth_manager\u001b[49m\u001b[38;5;241;43m.\u001b[39;49m\u001b[43mget_access_token\u001b[49m\u001b[43m(\u001b[49m\u001b[43mas_dict\u001b[49m\u001b[38;5;241;43m=\u001b[39;49m\u001b[38;5;28;43;01mFalse\u001b[39;49;00m\u001b[43m)\u001b[49m\n\u001b[1;32m    239\u001b[0m \u001b[38;5;28;01mexcept\u001b[39;00m \u001b[38;5;167;01mTypeError\u001b[39;00m:\n\u001b[1;32m    240\u001b[0m     token \u001b[38;5;241m=\u001b[39m \u001b[38;5;28mself\u001b[39m\u001b[38;5;241m.\u001b[39mauth_manager\u001b[38;5;241m.\u001b[39mget_access_token()\n",
      "File \u001b[0;32m/opt/conda/lib/python3.10/site-packages/spotipy/oauth2.py:535\u001b[0m, in \u001b[0;36mSpotifyOAuth.get_access_token\u001b[0;34m(self, code, as_dict, check_cache)\u001b[0m\n\u001b[1;32m    528\u001b[0m             token_info \u001b[38;5;241m=\u001b[39m \u001b[38;5;28mself\u001b[39m\u001b[38;5;241m.\u001b[39mrefresh_access_token(\n\u001b[1;32m    529\u001b[0m                 token_info[\u001b[38;5;124m\"\u001b[39m\u001b[38;5;124mrefresh_token\u001b[39m\u001b[38;5;124m\"\u001b[39m]\n\u001b[1;32m    530\u001b[0m             )\n\u001b[1;32m    531\u001b[0m         \u001b[38;5;28;01mreturn\u001b[39;00m token_info \u001b[38;5;28;01mif\u001b[39;00m as_dict \u001b[38;5;28;01melse\u001b[39;00m token_info[\u001b[38;5;124m\"\u001b[39m\u001b[38;5;124maccess_token\u001b[39m\u001b[38;5;124m\"\u001b[39m]\n\u001b[1;32m    533\u001b[0m payload \u001b[38;5;241m=\u001b[39m {\n\u001b[1;32m    534\u001b[0m     \u001b[38;5;124m\"\u001b[39m\u001b[38;5;124mredirect_uri\u001b[39m\u001b[38;5;124m\"\u001b[39m: \u001b[38;5;28mself\u001b[39m\u001b[38;5;241m.\u001b[39mredirect_uri,\n\u001b[0;32m--> 535\u001b[0m     \u001b[38;5;124m\"\u001b[39m\u001b[38;5;124mcode\u001b[39m\u001b[38;5;124m\"\u001b[39m: code \u001b[38;5;129;01mor\u001b[39;00m \u001b[38;5;28;43mself\u001b[39;49m\u001b[38;5;241;43m.\u001b[39;49m\u001b[43mget_auth_response\u001b[49m\u001b[43m(\u001b[49m\u001b[43m)\u001b[49m,\n\u001b[1;32m    536\u001b[0m     \u001b[38;5;124m\"\u001b[39m\u001b[38;5;124mgrant_type\u001b[39m\u001b[38;5;124m\"\u001b[39m: \u001b[38;5;124m\"\u001b[39m\u001b[38;5;124mauthorization_code\u001b[39m\u001b[38;5;124m\"\u001b[39m,\n\u001b[1;32m    537\u001b[0m }\n\u001b[1;32m    538\u001b[0m \u001b[38;5;28;01mif\u001b[39;00m \u001b[38;5;28mself\u001b[39m\u001b[38;5;241m.\u001b[39mscope:\n\u001b[1;32m    539\u001b[0m     payload[\u001b[38;5;124m\"\u001b[39m\u001b[38;5;124mscope\u001b[39m\u001b[38;5;124m\"\u001b[39m] \u001b[38;5;241m=\u001b[39m \u001b[38;5;28mself\u001b[39m\u001b[38;5;241m.\u001b[39mscope\n",
      "File \u001b[0;32m/opt/conda/lib/python3.10/site-packages/spotipy/oauth2.py:490\u001b[0m, in \u001b[0;36mSpotifyOAuth.get_auth_response\u001b[0;34m(self, open_browser)\u001b[0m\n\u001b[1;32m    483\u001b[0m \u001b[38;5;28;01mif\u001b[39;00m (\n\u001b[1;32m    484\u001b[0m         open_browser\n\u001b[1;32m    485\u001b[0m         \u001b[38;5;129;01mand\u001b[39;00m redirect_host \u001b[38;5;129;01min\u001b[39;00m (\u001b[38;5;124m\"\u001b[39m\u001b[38;5;124m127.0.0.1\u001b[39m\u001b[38;5;124m\"\u001b[39m, \u001b[38;5;124m\"\u001b[39m\u001b[38;5;124mlocalhost\u001b[39m\u001b[38;5;124m\"\u001b[39m)\n\u001b[1;32m    486\u001b[0m         \u001b[38;5;129;01mand\u001b[39;00m redirect_info\u001b[38;5;241m.\u001b[39mscheme \u001b[38;5;241m==\u001b[39m \u001b[38;5;124m\"\u001b[39m\u001b[38;5;124mhttp\u001b[39m\u001b[38;5;124m\"\u001b[39m\n\u001b[1;32m    487\u001b[0m ):\n\u001b[1;32m    488\u001b[0m     \u001b[38;5;66;03m# Only start a local http server if a port is specified\u001b[39;00m\n\u001b[1;32m    489\u001b[0m     \u001b[38;5;28;01mif\u001b[39;00m redirect_port:\n\u001b[0;32m--> 490\u001b[0m         \u001b[38;5;28;01mreturn\u001b[39;00m \u001b[38;5;28;43mself\u001b[39;49m\u001b[38;5;241;43m.\u001b[39;49m\u001b[43m_get_auth_response_local_server\u001b[49m\u001b[43m(\u001b[49m\u001b[43mredirect_port\u001b[49m\u001b[43m)\u001b[49m\n\u001b[1;32m    491\u001b[0m     \u001b[38;5;28;01melse\u001b[39;00m:\n\u001b[1;32m    492\u001b[0m         logger\u001b[38;5;241m.\u001b[39mwarning(\u001b[38;5;124m'\u001b[39m\u001b[38;5;124mUsing `\u001b[39m\u001b[38;5;132;01m%s\u001b[39;00m\u001b[38;5;124m` as redirect URI without a port. \u001b[39m\u001b[38;5;124m'\u001b[39m\n\u001b[1;32m    493\u001b[0m                        \u001b[38;5;124m'\u001b[39m\u001b[38;5;124mSpecify a port (e.g. `\u001b[39m\u001b[38;5;132;01m%s\u001b[39;00m\u001b[38;5;124m:8080`) to allow \u001b[39m\u001b[38;5;124m'\u001b[39m\n\u001b[1;32m    494\u001b[0m                        \u001b[38;5;124m'\u001b[39m\u001b[38;5;124mautomatic retrieval of authentication code \u001b[39m\u001b[38;5;124m'\u001b[39m\n\u001b[1;32m    495\u001b[0m                        \u001b[38;5;124m'\u001b[39m\u001b[38;5;124minstead of having to copy and paste \u001b[39m\u001b[38;5;124m'\u001b[39m\n\u001b[1;32m    496\u001b[0m                        \u001b[38;5;124m'\u001b[39m\u001b[38;5;124mthe URL your browser is redirected to.\u001b[39m\u001b[38;5;124m'\u001b[39m,\n\u001b[1;32m    497\u001b[0m                        redirect_host, redirect_host)\n",
      "File \u001b[0;32m/opt/conda/lib/python3.10/site-packages/spotipy/oauth2.py:459\u001b[0m, in \u001b[0;36mSpotifyOAuth._get_auth_response_local_server\u001b[0;34m(self, redirect_port)\u001b[0m\n\u001b[1;32m    457\u001b[0m server \u001b[38;5;241m=\u001b[39m start_local_http_server(redirect_port)\n\u001b[1;32m    458\u001b[0m \u001b[38;5;28mself\u001b[39m\u001b[38;5;241m.\u001b[39m_open_auth_url()\n\u001b[0;32m--> 459\u001b[0m \u001b[43mserver\u001b[49m\u001b[38;5;241;43m.\u001b[39;49m\u001b[43mhandle_request\u001b[49m\u001b[43m(\u001b[49m\u001b[43m)\u001b[49m\n\u001b[1;32m    461\u001b[0m \u001b[38;5;28;01mif\u001b[39;00m server\u001b[38;5;241m.\u001b[39merror \u001b[38;5;129;01mis\u001b[39;00m \u001b[38;5;129;01mnot\u001b[39;00m \u001b[38;5;28;01mNone\u001b[39;00m:\n\u001b[1;32m    462\u001b[0m     \u001b[38;5;28;01mraise\u001b[39;00m server\u001b[38;5;241m.\u001b[39merror\n",
      "File \u001b[0;32m/opt/conda/lib/python3.10/socketserver.py:294\u001b[0m, in \u001b[0;36mBaseServer.handle_request\u001b[0;34m(self)\u001b[0m\n\u001b[1;32m    291\u001b[0m selector\u001b[38;5;241m.\u001b[39mregister(\u001b[38;5;28mself\u001b[39m, selectors\u001b[38;5;241m.\u001b[39mEVENT_READ)\n\u001b[1;32m    293\u001b[0m \u001b[38;5;28;01mwhile\u001b[39;00m \u001b[38;5;28;01mTrue\u001b[39;00m:\n\u001b[0;32m--> 294\u001b[0m     ready \u001b[38;5;241m=\u001b[39m \u001b[43mselector\u001b[49m\u001b[38;5;241;43m.\u001b[39;49m\u001b[43mselect\u001b[49m\u001b[43m(\u001b[49m\u001b[43mtimeout\u001b[49m\u001b[43m)\u001b[49m\n\u001b[1;32m    295\u001b[0m     \u001b[38;5;28;01mif\u001b[39;00m ready:\n\u001b[1;32m    296\u001b[0m         \u001b[38;5;28;01mreturn\u001b[39;00m \u001b[38;5;28mself\u001b[39m\u001b[38;5;241m.\u001b[39m_handle_request_noblock()\n",
      "File \u001b[0;32m/opt/conda/lib/python3.10/selectors.py:416\u001b[0m, in \u001b[0;36m_PollLikeSelector.select\u001b[0;34m(self, timeout)\u001b[0m\n\u001b[1;32m    414\u001b[0m ready \u001b[38;5;241m=\u001b[39m []\n\u001b[1;32m    415\u001b[0m \u001b[38;5;28;01mtry\u001b[39;00m:\n\u001b[0;32m--> 416\u001b[0m     fd_event_list \u001b[38;5;241m=\u001b[39m \u001b[38;5;28;43mself\u001b[39;49m\u001b[38;5;241;43m.\u001b[39;49m\u001b[43m_selector\u001b[49m\u001b[38;5;241;43m.\u001b[39;49m\u001b[43mpoll\u001b[49m\u001b[43m(\u001b[49m\u001b[43mtimeout\u001b[49m\u001b[43m)\u001b[49m\n\u001b[1;32m    417\u001b[0m \u001b[38;5;28;01mexcept\u001b[39;00m \u001b[38;5;167;01mInterruptedError\u001b[39;00m:\n\u001b[1;32m    418\u001b[0m     \u001b[38;5;28;01mreturn\u001b[39;00m ready\n",
      "\u001b[0;31mKeyboardInterrupt\u001b[0m: "
     ]
    }
   ],
   "source": [
    "create_spotify_playlist(\"testing!!! acv\", songs)"
   ]
  },
  {
   "cell_type": "code",
   "execution_count": null,
   "id": "6a5e6369-4e9e-4335-942c-5b95949ab9b9",
   "metadata": {},
   "outputs": [],
   "source": [
    "# stretch: personalize based on user listening behavior"
   ]
  },
  {
   "cell_type": "code",
   "execution_count": null,
   "id": "5a59cca7-da12-466e-beac-8201e4a8206c",
   "metadata": {},
   "outputs": [],
   "source": []
  }
 ],
 "metadata": {
  "environment": {
   "kernel": "conda-root-py",
   "name": "workbench-notebooks.m115",
   "type": "gcloud",
   "uri": "gcr.io/deeplearning-platform-release/workbench-notebooks:m115"
  },
  "kernelspec": {
   "display_name": "Python 3 (ipykernel) (Local) (Local)",
   "language": "python",
   "name": "conda-root-py"
  },
  "language_info": {
   "codemirror_mode": {
    "name": "ipython",
    "version": 3
   },
   "file_extension": ".py",
   "mimetype": "text/x-python",
   "name": "python",
   "nbconvert_exporter": "python",
   "pygments_lexer": "ipython3",
   "version": "3.10.13"
  }
 },
 "nbformat": 4,
 "nbformat_minor": 5
}
