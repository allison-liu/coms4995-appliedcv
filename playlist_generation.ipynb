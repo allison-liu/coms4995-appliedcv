{
 "cells": [
  {
   "cell_type": "code",
   "execution_count": null,
   "id": "50b22e13",
   "metadata": {},
   "outputs": [],
   "source": [
    "# imports?"
   ]
  },
  {
   "cell_type": "code",
   "execution_count": null,
   "id": "da739b37",
   "metadata": {},
   "outputs": [],
   "source": [
    "# load in msd data"
   ]
  },
  {
   "cell_type": "code",
   "execution_count": null,
   "id": "597bd9ac",
   "metadata": {},
   "outputs": [],
   "source": [
    "# for each song in msd, webscrape allmusic for moods"
   ]
  },
  {
   "cell_type": "code",
   "execution_count": null,
   "id": "87e4ffe9",
   "metadata": {},
   "outputs": [],
   "source": [
    "# find spotify id for song"
   ]
  },
  {
   "cell_type": "code",
   "execution_count": null,
   "id": "ba340dbf",
   "metadata": {},
   "outputs": [],
   "source": [
    "# store in dictionary {mood: [spotify id]}"
   ]
  }
 ],
 "metadata": {
  "kernelspec": {
   "display_name": "Python 3 (ipykernel)",
   "language": "python",
   "name": "python3"
  },
  "language_info": {
   "codemirror_mode": {
    "name": "ipython",
    "version": 3
   },
   "file_extension": ".py",
   "mimetype": "text/x-python",
   "name": "python",
   "nbconvert_exporter": "python",
   "pygments_lexer": "ipython3",
   "version": "3.11.5"
  }
 },
 "nbformat": 4,
 "nbformat_minor": 5
}
